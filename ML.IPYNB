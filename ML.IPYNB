{
 "cells": [
  {
   "cell_type": "code",
   "execution_count": 253,
   "metadata": {},
   "outputs": [],
   "source": [
    "import warnings\n",
    "warnings.filterwarnings('ignore')\n",
    "import numpy as np\n",
    "import pandas as pd\n",
    "from pathlib import Path\n",
    "from collections import Counter"
   ]
  },
  {
   "cell_type": "code",
   "execution_count": 254,
   "metadata": {},
   "outputs": [],
   "source": [
    "columns = [\n",
    "    \"cp_strict\",\"cp_moderate\",\"cp_flexible\",\"bt_real_bed\",\"bt_pull_out_sofa\",\"bt_futon\",\"bt_couch\",\"bt_air_bed\",\n",
    "    \"rt_shared_room\",\"rt_private_room\",\"rt_entire_home\",\"pt_yurt\",\"pt_treehouse\",\"pt_townhouse\",\"pt_tent\",\"pt_other\",\"pt_loft\",\n",
    "    \"pt_house\",\"pt_dorm\",\"pt_condo\",\"pt_chalet\",\"pt_rv\",\"pt_cabin\",\"pt_bungalow\",\"pt_boat\",\"pt_b&b\",\"pt_apartment\",\"location_west_seattle\",\n",
    "    \"location_university_district\",\"location_seward_park\",\"location_rainier_vally\",\"location_queen_anne\",\"location_other\",\"location_northgate\",\n",
    "    \"location_magnolia\",\"location_lake_city\",\"location_interbay\",\"location_downtown\",\"location_delridge\",\"location_central_area\",\"location_cascade\",\n",
    "    \"location_capital_hill\",\"location_beacon_hill\",\"location_ballard\",\"rt_within_hours\",\"rt_few_hours\",\"rt_within_day\",\"rt_few_days\",\n",
    "    \"requires_guest_phone_verification\",\"does_not_require_guest_phone_verification\",\"requires_guest_profile_pic\",\"does_not_require_guest_prof_pic\",\n",
    "    \"instantly_bookable\",\"not_instantly_bookable\",\"host_does_not_require_license\",\"host_does_have_identity_ver\",\"host_does_not_have_identity_ver\",\n",
    "    \"host_does_have_profile_pic\",\"host_does_not_have_profile_pic\",\"host_response_time\",\"host_response_rate\",\n",
    "    \"host_acceptance_rate\",\"rating_good_or_bad\"\n",
    "]\n",
    "\n",
    "# columns = [\n",
    "#     \"cp_strict\",\"cp_moderate\",\"cp_flexible\",\"bt_real_bed\",\"bt_pull_out_sofa\",\"bt_futon\",\"bt_couch\",\"bt_air_bed\",\n",
    "#     \"rt_shared_room\",\"rt_private_room\",\"rt_entire_home\",\"pt_yurt\",\"pt_treehouse\",\"pt_townhouse\",\"pt_tent\",\"pt_other\",\"pt_loft\",\n",
    "#     \"pt_house\",\"pt_dorm\",\"pt_condo\",\"pt_chalet\",\"pt_rv\",\"pt_cabin\",\"pt_bungalow\",\"pt_boat\",\"pt_b&b\",\"pt_apartment\",\"location_west_seattle\",\n",
    "#     \"location_university_district\",\"location_seward_park\",\"location_rainier_vally\",\"location_queen_anne\",\"location_other\",\"location_northgate\",\n",
    "#     \"location_magnolia\",\"location_lake_city\",\"location_interbay\",\"location_downtown\",\"location_delridge\",\"location_central_area\",\"location_cascade\",\n",
    "#     \"location_capital_hill\",\"location_beacon_hill\",\"location_ballard\",\"rt_within_hours\",\"rt_few_hours\",\"rt_within_day\",\"rt_few_days\",\n",
    "#     \"requires_guest_phone_verification\",\"does_not_require_guest_phone_verification\",\"requires_guest_profile_pic\",\"does_not_require_guest_prof_pic\",\n",
    "#     \"instantly_bookable\",\"not_instantly_bookable\",\"host_does_not_require_license\",\"host_does_have_identity_ver\",\"host_does_not_have_identity_ver\",\n",
    "#     \"host_does_have_profile_pic\",\"host_does_not_have_profile_pic\",\"a_superhost\",\"not_a_superhost\",\"host_response_time\",\"host_response_rate\",\n",
    "#     \"host_acceptance_rate\",\"host_is_superhost\",\"host_has_profile_pic\",\"host_identity_verified\",\"neighbourhood_group_cleansed\",\"property_type\",\n",
    "#     \"room_type\",\"accommodates\",\"bathrooms\",\"bedrooms\",\"beds\",\"bed_type\",\"price\",\"guests_included\",\"extra_people\",\"minimum_nights\",\"maximum_nights\",\n",
    "#     \"availability_30\",\"availability_60\",\"availability_90\",\"availability_365\",\"requires_license\",\"instant_bookable\",\"cancellation_policy\",\n",
    "#     \"require_guest_profile_picture\",\"require_guest_phone_verification\",\"rating_good_or_bad\"\n",
    "# ]\n",
    "\n",
    "target = [\"rating_good_or_bad\"]"
   ]
  },
  {
   "cell_type": "code",
   "execution_count": 255,
   "metadata": {},
   "outputs": [
    {
     "data": {
      "text/html": [
       "<div>\n",
       "<style scoped>\n",
       "    .dataframe tbody tr th:only-of-type {\n",
       "        vertical-align: middle;\n",
       "    }\n",
       "\n",
       "    .dataframe tbody tr th {\n",
       "        vertical-align: top;\n",
       "    }\n",
       "\n",
       "    .dataframe thead th {\n",
       "        text-align: right;\n",
       "    }\n",
       "</style>\n",
       "<table border=\"1\" class=\"dataframe\">\n",
       "  <thead>\n",
       "    <tr style=\"text-align: right;\">\n",
       "      <th></th>\n",
       "      <th>cp_strict</th>\n",
       "      <th>cp_moderate</th>\n",
       "      <th>cp_flexible</th>\n",
       "      <th>bt_real_bed</th>\n",
       "      <th>bt_pull_out_sofa</th>\n",
       "      <th>bt_futon</th>\n",
       "      <th>bt_couch</th>\n",
       "      <th>bt_air_bed</th>\n",
       "      <th>rt_shared_room</th>\n",
       "      <th>rt_private_room</th>\n",
       "      <th>...</th>\n",
       "      <th>not_instantly_bookable</th>\n",
       "      <th>host_does_not_require_license</th>\n",
       "      <th>host_does_have_identity_ver</th>\n",
       "      <th>host_does_not_have_identity_ver</th>\n",
       "      <th>host_does_have_profile_pic</th>\n",
       "      <th>host_does_not_have_profile_pic</th>\n",
       "      <th>host_response_time</th>\n",
       "      <th>host_response_rate</th>\n",
       "      <th>host_acceptance_rate</th>\n",
       "      <th>rating_good_or_bad</th>\n",
       "    </tr>\n",
       "  </thead>\n",
       "  <tbody>\n",
       "    <tr>\n",
       "      <th>0</th>\n",
       "      <td>0.0</td>\n",
       "      <td>1.0</td>\n",
       "      <td>0.0</td>\n",
       "      <td>1.0</td>\n",
       "      <td>0.0</td>\n",
       "      <td>0.0</td>\n",
       "      <td>0.0</td>\n",
       "      <td>0.0</td>\n",
       "      <td>0.0</td>\n",
       "      <td>0.0</td>\n",
       "      <td>...</td>\n",
       "      <td>1.0</td>\n",
       "      <td>1.0</td>\n",
       "      <td>1.0</td>\n",
       "      <td>0.0</td>\n",
       "      <td>1.0</td>\n",
       "      <td>0.0</td>\n",
       "      <td>within a few hours</td>\n",
       "      <td>0.96</td>\n",
       "      <td>1.0</td>\n",
       "      <td>good_review</td>\n",
       "    </tr>\n",
       "    <tr>\n",
       "      <th>1</th>\n",
       "      <td>1.0</td>\n",
       "      <td>0.0</td>\n",
       "      <td>0.0</td>\n",
       "      <td>1.0</td>\n",
       "      <td>0.0</td>\n",
       "      <td>0.0</td>\n",
       "      <td>0.0</td>\n",
       "      <td>0.0</td>\n",
       "      <td>0.0</td>\n",
       "      <td>0.0</td>\n",
       "      <td>...</td>\n",
       "      <td>1.0</td>\n",
       "      <td>1.0</td>\n",
       "      <td>1.0</td>\n",
       "      <td>0.0</td>\n",
       "      <td>1.0</td>\n",
       "      <td>0.0</td>\n",
       "      <td>within an hour</td>\n",
       "      <td>0.98</td>\n",
       "      <td>1.0</td>\n",
       "      <td>good_review</td>\n",
       "    </tr>\n",
       "    <tr>\n",
       "      <th>2</th>\n",
       "      <td>1.0</td>\n",
       "      <td>0.0</td>\n",
       "      <td>0.0</td>\n",
       "      <td>1.0</td>\n",
       "      <td>0.0</td>\n",
       "      <td>0.0</td>\n",
       "      <td>0.0</td>\n",
       "      <td>0.0</td>\n",
       "      <td>0.0</td>\n",
       "      <td>0.0</td>\n",
       "      <td>...</td>\n",
       "      <td>1.0</td>\n",
       "      <td>1.0</td>\n",
       "      <td>1.0</td>\n",
       "      <td>0.0</td>\n",
       "      <td>1.0</td>\n",
       "      <td>0.0</td>\n",
       "      <td>within a few hours</td>\n",
       "      <td>0.67</td>\n",
       "      <td>1.0</td>\n",
       "      <td>good_review</td>\n",
       "    </tr>\n",
       "    <tr>\n",
       "      <th>3</th>\n",
       "      <td>0.0</td>\n",
       "      <td>1.0</td>\n",
       "      <td>0.0</td>\n",
       "      <td>1.0</td>\n",
       "      <td>0.0</td>\n",
       "      <td>0.0</td>\n",
       "      <td>0.0</td>\n",
       "      <td>0.0</td>\n",
       "      <td>0.0</td>\n",
       "      <td>1.0</td>\n",
       "      <td>...</td>\n",
       "      <td>1.0</td>\n",
       "      <td>1.0</td>\n",
       "      <td>1.0</td>\n",
       "      <td>0.0</td>\n",
       "      <td>1.0</td>\n",
       "      <td>0.0</td>\n",
       "      <td>within an hour</td>\n",
       "      <td>1.00</td>\n",
       "      <td>1.0</td>\n",
       "      <td>good_review</td>\n",
       "    </tr>\n",
       "    <tr>\n",
       "      <th>4</th>\n",
       "      <td>1.0</td>\n",
       "      <td>0.0</td>\n",
       "      <td>0.0</td>\n",
       "      <td>1.0</td>\n",
       "      <td>0.0</td>\n",
       "      <td>0.0</td>\n",
       "      <td>0.0</td>\n",
       "      <td>0.0</td>\n",
       "      <td>0.0</td>\n",
       "      <td>1.0</td>\n",
       "      <td>...</td>\n",
       "      <td>1.0</td>\n",
       "      <td>1.0</td>\n",
       "      <td>1.0</td>\n",
       "      <td>0.0</td>\n",
       "      <td>1.0</td>\n",
       "      <td>0.0</td>\n",
       "      <td>within an hour</td>\n",
       "      <td>1.00</td>\n",
       "      <td>1.0</td>\n",
       "      <td>good_review</td>\n",
       "    </tr>\n",
       "  </tbody>\n",
       "</table>\n",
       "<p>5 rows × 63 columns</p>\n",
       "</div>"
      ],
      "text/plain": [
       "   cp_strict  cp_moderate  cp_flexible  bt_real_bed  bt_pull_out_sofa  \\\n",
       "0        0.0          1.0          0.0          1.0               0.0   \n",
       "1        1.0          0.0          0.0          1.0               0.0   \n",
       "2        1.0          0.0          0.0          1.0               0.0   \n",
       "3        0.0          1.0          0.0          1.0               0.0   \n",
       "4        1.0          0.0          0.0          1.0               0.0   \n",
       "\n",
       "   bt_futon  bt_couch  bt_air_bed  rt_shared_room  rt_private_room  ...  \\\n",
       "0       0.0       0.0         0.0             0.0              0.0  ...   \n",
       "1       0.0       0.0         0.0             0.0              0.0  ...   \n",
       "2       0.0       0.0         0.0             0.0              0.0  ...   \n",
       "3       0.0       0.0         0.0             0.0              1.0  ...   \n",
       "4       0.0       0.0         0.0             0.0              1.0  ...   \n",
       "\n",
       "   not_instantly_bookable  host_does_not_require_license  \\\n",
       "0                     1.0                            1.0   \n",
       "1                     1.0                            1.0   \n",
       "2                     1.0                            1.0   \n",
       "3                     1.0                            1.0   \n",
       "4                     1.0                            1.0   \n",
       "\n",
       "   host_does_have_identity_ver  host_does_not_have_identity_ver  \\\n",
       "0                          1.0                              0.0   \n",
       "1                          1.0                              0.0   \n",
       "2                          1.0                              0.0   \n",
       "3                          1.0                              0.0   \n",
       "4                          1.0                              0.0   \n",
       "\n",
       "   host_does_have_profile_pic  host_does_not_have_profile_pic  \\\n",
       "0                         1.0                             0.0   \n",
       "1                         1.0                             0.0   \n",
       "2                         1.0                             0.0   \n",
       "3                         1.0                             0.0   \n",
       "4                         1.0                             0.0   \n",
       "\n",
       "   host_response_time  host_response_rate  host_acceptance_rate  \\\n",
       "0  within a few hours                0.96                   1.0   \n",
       "1      within an hour                0.98                   1.0   \n",
       "2  within a few hours                0.67                   1.0   \n",
       "3      within an hour                1.00                   1.0   \n",
       "4      within an hour                1.00                   1.0   \n",
       "\n",
       "   rating_good_or_bad  \n",
       "0         good_review  \n",
       "1         good_review  \n",
       "2         good_review  \n",
       "3         good_review  \n",
       "4         good_review  \n",
       "\n",
       "[5 rows x 63 columns]"
      ]
     },
     "execution_count": 255,
     "metadata": {},
     "output_type": "execute_result"
    }
   ],
   "source": [
    "# Load the data\n",
    "file_path = Path('ml_final_data.csv')\n",
    "df = pd.read_csv(file_path)\n",
    "df = df.loc[:, columns].copy()\n",
    "\n",
    "# Drop the null columns where all values are null\n",
    "df = df.dropna(axis='columns', how='all')\n",
    "\n",
    "# Drop the null rows\n",
    "df = df.dropna()\n",
    "\n",
    "\n",
    "# convert interest rate to numerical\n",
    "df['host_response_rate'] = df['host_response_rate'].str.replace('%', '')\n",
    "df['host_response_rate'] = df['host_response_rate'].astype('float') / 100\n",
    "df['host_acceptance_rate'] = df['host_acceptance_rate'].str.replace('%', '')\n",
    "df['host_acceptance_rate'] = df['host_acceptance_rate'].astype('float') / 100\n",
    "\n",
    "df.reset_index(inplace=True, drop=True)\n",
    "\n",
    "df.head()"
   ]
  },
  {
   "cell_type": "code",
   "execution_count": 256,
   "metadata": {},
   "outputs": [],
   "source": [
    "# Create our features\n",
    "X = df.drop(\"rating_good_or_bad\",axis=1)\n",
    "X = pd.get_dummies(X)\n",
    "\n",
    "\n",
    "# Create our target\n",
    "y = df.loc[:,target].copy()"
   ]
  },
  {
   "cell_type": "code",
   "execution_count": 257,
   "metadata": {},
   "outputs": [
    {
     "data": {
      "text/html": [
       "<div>\n",
       "<style scoped>\n",
       "    .dataframe tbody tr th:only-of-type {\n",
       "        vertical-align: middle;\n",
       "    }\n",
       "\n",
       "    .dataframe tbody tr th {\n",
       "        vertical-align: top;\n",
       "    }\n",
       "\n",
       "    .dataframe thead th {\n",
       "        text-align: right;\n",
       "    }\n",
       "</style>\n",
       "<table border=\"1\" class=\"dataframe\">\n",
       "  <thead>\n",
       "    <tr style=\"text-align: right;\">\n",
       "      <th></th>\n",
       "      <th>cp_strict</th>\n",
       "      <th>cp_moderate</th>\n",
       "      <th>cp_flexible</th>\n",
       "      <th>bt_real_bed</th>\n",
       "      <th>bt_pull_out_sofa</th>\n",
       "      <th>bt_futon</th>\n",
       "      <th>bt_couch</th>\n",
       "      <th>bt_air_bed</th>\n",
       "      <th>rt_shared_room</th>\n",
       "      <th>rt_private_room</th>\n",
       "      <th>...</th>\n",
       "      <th>host_does_have_identity_ver</th>\n",
       "      <th>host_does_not_have_identity_ver</th>\n",
       "      <th>host_does_have_profile_pic</th>\n",
       "      <th>host_does_not_have_profile_pic</th>\n",
       "      <th>host_response_rate</th>\n",
       "      <th>host_acceptance_rate</th>\n",
       "      <th>host_response_time_a few days or more</th>\n",
       "      <th>host_response_time_within a day</th>\n",
       "      <th>host_response_time_within a few hours</th>\n",
       "      <th>host_response_time_within an hour</th>\n",
       "    </tr>\n",
       "  </thead>\n",
       "  <tbody>\n",
       "    <tr>\n",
       "      <th>count</th>\n",
       "      <td>2655.000000</td>\n",
       "      <td>2655.000000</td>\n",
       "      <td>2655.000000</td>\n",
       "      <td>2655.000000</td>\n",
       "      <td>2655.000000</td>\n",
       "      <td>2655.000000</td>\n",
       "      <td>2655.000000</td>\n",
       "      <td>2655.000000</td>\n",
       "      <td>2655.000000</td>\n",
       "      <td>2655.000000</td>\n",
       "      <td>...</td>\n",
       "      <td>2655.000000</td>\n",
       "      <td>2655.000000</td>\n",
       "      <td>2655.000000</td>\n",
       "      <td>2655.000000</td>\n",
       "      <td>2655.000000</td>\n",
       "      <td>2655.000000</td>\n",
       "      <td>2655.000000</td>\n",
       "      <td>2655.000000</td>\n",
       "      <td>2655.000000</td>\n",
       "      <td>2655.000000</td>\n",
       "    </tr>\n",
       "    <tr>\n",
       "      <th>mean</th>\n",
       "      <td>0.409040</td>\n",
       "      <td>0.355932</td>\n",
       "      <td>0.235028</td>\n",
       "      <td>0.961205</td>\n",
       "      <td>0.013183</td>\n",
       "      <td>0.017326</td>\n",
       "      <td>0.002637</td>\n",
       "      <td>0.005650</td>\n",
       "      <td>0.033522</td>\n",
       "      <td>0.297175</td>\n",
       "      <td>...</td>\n",
       "      <td>0.831638</td>\n",
       "      <td>0.168362</td>\n",
       "      <td>0.998870</td>\n",
       "      <td>0.001130</td>\n",
       "      <td>0.953537</td>\n",
       "      <td>0.999623</td>\n",
       "      <td>0.009416</td>\n",
       "      <td>0.147646</td>\n",
       "      <td>0.290772</td>\n",
       "      <td>0.552166</td>\n",
       "    </tr>\n",
       "    <tr>\n",
       "      <th>std</th>\n",
       "      <td>0.491749</td>\n",
       "      <td>0.478885</td>\n",
       "      <td>0.424096</td>\n",
       "      <td>0.193142</td>\n",
       "      <td>0.114078</td>\n",
       "      <td>0.130507</td>\n",
       "      <td>0.051289</td>\n",
       "      <td>0.074966</td>\n",
       "      <td>0.180028</td>\n",
       "      <td>0.457100</td>\n",
       "      <td>...</td>\n",
       "      <td>0.374258</td>\n",
       "      <td>0.374258</td>\n",
       "      <td>0.033602</td>\n",
       "      <td>0.033602</td>\n",
       "      <td>0.108558</td>\n",
       "      <td>0.019407</td>\n",
       "      <td>0.096597</td>\n",
       "      <td>0.354816</td>\n",
       "      <td>0.454204</td>\n",
       "      <td>0.497365</td>\n",
       "    </tr>\n",
       "    <tr>\n",
       "      <th>min</th>\n",
       "      <td>0.000000</td>\n",
       "      <td>0.000000</td>\n",
       "      <td>0.000000</td>\n",
       "      <td>0.000000</td>\n",
       "      <td>0.000000</td>\n",
       "      <td>0.000000</td>\n",
       "      <td>0.000000</td>\n",
       "      <td>0.000000</td>\n",
       "      <td>0.000000</td>\n",
       "      <td>0.000000</td>\n",
       "      <td>...</td>\n",
       "      <td>0.000000</td>\n",
       "      <td>0.000000</td>\n",
       "      <td>0.000000</td>\n",
       "      <td>0.000000</td>\n",
       "      <td>0.170000</td>\n",
       "      <td>0.000000</td>\n",
       "      <td>0.000000</td>\n",
       "      <td>0.000000</td>\n",
       "      <td>0.000000</td>\n",
       "      <td>0.000000</td>\n",
       "    </tr>\n",
       "    <tr>\n",
       "      <th>25%</th>\n",
       "      <td>0.000000</td>\n",
       "      <td>0.000000</td>\n",
       "      <td>0.000000</td>\n",
       "      <td>1.000000</td>\n",
       "      <td>0.000000</td>\n",
       "      <td>0.000000</td>\n",
       "      <td>0.000000</td>\n",
       "      <td>0.000000</td>\n",
       "      <td>0.000000</td>\n",
       "      <td>0.000000</td>\n",
       "      <td>...</td>\n",
       "      <td>1.000000</td>\n",
       "      <td>0.000000</td>\n",
       "      <td>1.000000</td>\n",
       "      <td>0.000000</td>\n",
       "      <td>0.980000</td>\n",
       "      <td>1.000000</td>\n",
       "      <td>0.000000</td>\n",
       "      <td>0.000000</td>\n",
       "      <td>0.000000</td>\n",
       "      <td>0.000000</td>\n",
       "    </tr>\n",
       "    <tr>\n",
       "      <th>50%</th>\n",
       "      <td>0.000000</td>\n",
       "      <td>0.000000</td>\n",
       "      <td>0.000000</td>\n",
       "      <td>1.000000</td>\n",
       "      <td>0.000000</td>\n",
       "      <td>0.000000</td>\n",
       "      <td>0.000000</td>\n",
       "      <td>0.000000</td>\n",
       "      <td>0.000000</td>\n",
       "      <td>0.000000</td>\n",
       "      <td>...</td>\n",
       "      <td>1.000000</td>\n",
       "      <td>0.000000</td>\n",
       "      <td>1.000000</td>\n",
       "      <td>0.000000</td>\n",
       "      <td>1.000000</td>\n",
       "      <td>1.000000</td>\n",
       "      <td>0.000000</td>\n",
       "      <td>0.000000</td>\n",
       "      <td>0.000000</td>\n",
       "      <td>1.000000</td>\n",
       "    </tr>\n",
       "    <tr>\n",
       "      <th>75%</th>\n",
       "      <td>1.000000</td>\n",
       "      <td>1.000000</td>\n",
       "      <td>0.000000</td>\n",
       "      <td>1.000000</td>\n",
       "      <td>0.000000</td>\n",
       "      <td>0.000000</td>\n",
       "      <td>0.000000</td>\n",
       "      <td>0.000000</td>\n",
       "      <td>0.000000</td>\n",
       "      <td>1.000000</td>\n",
       "      <td>...</td>\n",
       "      <td>1.000000</td>\n",
       "      <td>0.000000</td>\n",
       "      <td>1.000000</td>\n",
       "      <td>0.000000</td>\n",
       "      <td>1.000000</td>\n",
       "      <td>1.000000</td>\n",
       "      <td>0.000000</td>\n",
       "      <td>0.000000</td>\n",
       "      <td>1.000000</td>\n",
       "      <td>1.000000</td>\n",
       "    </tr>\n",
       "    <tr>\n",
       "      <th>max</th>\n",
       "      <td>1.000000</td>\n",
       "      <td>1.000000</td>\n",
       "      <td>1.000000</td>\n",
       "      <td>1.000000</td>\n",
       "      <td>1.000000</td>\n",
       "      <td>1.000000</td>\n",
       "      <td>1.000000</td>\n",
       "      <td>1.000000</td>\n",
       "      <td>1.000000</td>\n",
       "      <td>1.000000</td>\n",
       "      <td>...</td>\n",
       "      <td>1.000000</td>\n",
       "      <td>1.000000</td>\n",
       "      <td>1.000000</td>\n",
       "      <td>1.000000</td>\n",
       "      <td>1.000000</td>\n",
       "      <td>1.000000</td>\n",
       "      <td>1.000000</td>\n",
       "      <td>1.000000</td>\n",
       "      <td>1.000000</td>\n",
       "      <td>1.000000</td>\n",
       "    </tr>\n",
       "  </tbody>\n",
       "</table>\n",
       "<p>8 rows × 65 columns</p>\n",
       "</div>"
      ],
      "text/plain": [
       "         cp_strict  cp_moderate  cp_flexible  bt_real_bed  bt_pull_out_sofa  \\\n",
       "count  2655.000000  2655.000000  2655.000000  2655.000000       2655.000000   \n",
       "mean      0.409040     0.355932     0.235028     0.961205          0.013183   \n",
       "std       0.491749     0.478885     0.424096     0.193142          0.114078   \n",
       "min       0.000000     0.000000     0.000000     0.000000          0.000000   \n",
       "25%       0.000000     0.000000     0.000000     1.000000          0.000000   \n",
       "50%       0.000000     0.000000     0.000000     1.000000          0.000000   \n",
       "75%       1.000000     1.000000     0.000000     1.000000          0.000000   \n",
       "max       1.000000     1.000000     1.000000     1.000000          1.000000   \n",
       "\n",
       "          bt_futon     bt_couch   bt_air_bed  rt_shared_room  rt_private_room  \\\n",
       "count  2655.000000  2655.000000  2655.000000     2655.000000      2655.000000   \n",
       "mean      0.017326     0.002637     0.005650        0.033522         0.297175   \n",
       "std       0.130507     0.051289     0.074966        0.180028         0.457100   \n",
       "min       0.000000     0.000000     0.000000        0.000000         0.000000   \n",
       "25%       0.000000     0.000000     0.000000        0.000000         0.000000   \n",
       "50%       0.000000     0.000000     0.000000        0.000000         0.000000   \n",
       "75%       0.000000     0.000000     0.000000        0.000000         1.000000   \n",
       "max       1.000000     1.000000     1.000000        1.000000         1.000000   \n",
       "\n",
       "       ...  host_does_have_identity_ver  host_does_not_have_identity_ver  \\\n",
       "count  ...                  2655.000000                      2655.000000   \n",
       "mean   ...                     0.831638                         0.168362   \n",
       "std    ...                     0.374258                         0.374258   \n",
       "min    ...                     0.000000                         0.000000   \n",
       "25%    ...                     1.000000                         0.000000   \n",
       "50%    ...                     1.000000                         0.000000   \n",
       "75%    ...                     1.000000                         0.000000   \n",
       "max    ...                     1.000000                         1.000000   \n",
       "\n",
       "       host_does_have_profile_pic  host_does_not_have_profile_pic  \\\n",
       "count                 2655.000000                     2655.000000   \n",
       "mean                     0.998870                        0.001130   \n",
       "std                      0.033602                        0.033602   \n",
       "min                      0.000000                        0.000000   \n",
       "25%                      1.000000                        0.000000   \n",
       "50%                      1.000000                        0.000000   \n",
       "75%                      1.000000                        0.000000   \n",
       "max                      1.000000                        1.000000   \n",
       "\n",
       "       host_response_rate  host_acceptance_rate  \\\n",
       "count         2655.000000           2655.000000   \n",
       "mean             0.953537              0.999623   \n",
       "std              0.108558              0.019407   \n",
       "min              0.170000              0.000000   \n",
       "25%              0.980000              1.000000   \n",
       "50%              1.000000              1.000000   \n",
       "75%              1.000000              1.000000   \n",
       "max              1.000000              1.000000   \n",
       "\n",
       "       host_response_time_a few days or more  host_response_time_within a day  \\\n",
       "count                            2655.000000                      2655.000000   \n",
       "mean                                0.009416                         0.147646   \n",
       "std                                 0.096597                         0.354816   \n",
       "min                                 0.000000                         0.000000   \n",
       "25%                                 0.000000                         0.000000   \n",
       "50%                                 0.000000                         0.000000   \n",
       "75%                                 0.000000                         0.000000   \n",
       "max                                 1.000000                         1.000000   \n",
       "\n",
       "       host_response_time_within a few hours  \\\n",
       "count                            2655.000000   \n",
       "mean                                0.290772   \n",
       "std                                 0.454204   \n",
       "min                                 0.000000   \n",
       "25%                                 0.000000   \n",
       "50%                                 0.000000   \n",
       "75%                                 1.000000   \n",
       "max                                 1.000000   \n",
       "\n",
       "       host_response_time_within an hour  \n",
       "count                        2655.000000  \n",
       "mean                            0.552166  \n",
       "std                             0.497365  \n",
       "min                             0.000000  \n",
       "25%                             0.000000  \n",
       "50%                             1.000000  \n",
       "75%                             1.000000  \n",
       "max                             1.000000  \n",
       "\n",
       "[8 rows x 65 columns]"
      ]
     },
     "execution_count": 257,
     "metadata": {},
     "output_type": "execute_result"
    }
   ],
   "source": [
    "X.describe()"
   ]
  },
  {
   "cell_type": "code",
   "execution_count": 258,
   "metadata": {},
   "outputs": [
    {
     "data": {
      "text/plain": [
       "good_review    1493\n",
       "bad_review     1162\n",
       "Name: rating_good_or_bad, dtype: int64"
      ]
     },
     "execution_count": 258,
     "metadata": {},
     "output_type": "execute_result"
    }
   ],
   "source": [
    "# Check the balance of our target values\n",
    "y[\"rating_good_or_bad\"].value_counts()"
   ]
  },
  {
   "cell_type": "code",
   "execution_count": 259,
   "metadata": {},
   "outputs": [
    {
     "name": "stdout",
     "output_type": "stream",
     "text": [
      "Training: Counter({'good_review': 1124, 'bad_review': 867})\n",
      "Test: Counter({'good_review': 369, 'bad_review': 295})\n"
     ]
    }
   ],
   "source": [
    "from sklearn.model_selection import train_test_split\n",
    "X_train, X_test, y_train, y_test = train_test_split(X,y, random_state=1)\n",
    "print(\"Training:\", Counter(y_train[\"rating_good_or_bad\"]))\n",
    "print(\"Test:\", Counter(y_test[\"rating_good_or_bad\"]))"
   ]
  },
  {
   "attachments": {},
   "cell_type": "markdown",
   "metadata": {},
   "source": [
    "Oversampling"
   ]
  },
  {
   "cell_type": "code",
   "execution_count": 260,
   "metadata": {},
   "outputs": [
    {
     "name": "stdout",
     "output_type": "stream",
     "text": [
      "Counter({'bad_review': 1124, 'good_review': 1124})\n"
     ]
    }
   ],
   "source": [
    "# Resample the training data with the RandomOversampler\n",
    "from imblearn.over_sampling import RandomOverSampler\n",
    "ros = RandomOverSampler (random_state=1)\n",
    "X_resampled, y_resampled = ros.fit_resample(X_train, y_train)\n",
    "print(Counter(y_resampled[\"rating_good_or_bad\"]))"
   ]
  },
  {
   "cell_type": "code",
   "execution_count": 261,
   "metadata": {},
   "outputs": [
    {
     "data": {
      "text/plain": [
       "LogisticRegression(random_state=1)"
      ]
     },
     "execution_count": 261,
     "metadata": {},
     "output_type": "execute_result"
    }
   ],
   "source": [
    "# Train the Logistic Regression model using the resampled data\n",
    "from sklearn.linear_model import LogisticRegression\n",
    "\n",
    "model = LogisticRegression(solver='lbfgs', random_state=1)\n",
    "model.fit(X_resampled, y_resampled)"
   ]
  },
  {
   "cell_type": "code",
   "execution_count": 262,
   "metadata": {},
   "outputs": [
    {
     "data": {
      "text/plain": [
       "0.5869229709246245"
      ]
     },
     "execution_count": 262,
     "metadata": {},
     "output_type": "execute_result"
    }
   ],
   "source": [
    "# Calculated the balanced accuracy score\n",
    "y_pred = model.predict(X_test)\n",
    "\n",
    "from sklearn.metrics import balanced_accuracy_score\n",
    "balanced_accuracy_score(y_test,y_pred)"
   ]
  },
  {
   "cell_type": "code",
   "execution_count": 263,
   "metadata": {},
   "outputs": [
    {
     "data": {
      "text/html": [
       "<div>\n",
       "<style scoped>\n",
       "    .dataframe tbody tr th:only-of-type {\n",
       "        vertical-align: middle;\n",
       "    }\n",
       "\n",
       "    .dataframe tbody tr th {\n",
       "        vertical-align: top;\n",
       "    }\n",
       "\n",
       "    .dataframe thead th {\n",
       "        text-align: right;\n",
       "    }\n",
       "</style>\n",
       "<table border=\"1\" class=\"dataframe\">\n",
       "  <thead>\n",
       "    <tr style=\"text-align: right;\">\n",
       "      <th></th>\n",
       "      <th>Predicted Bad Review</th>\n",
       "      <th>Predicted Good Review</th>\n",
       "    </tr>\n",
       "  </thead>\n",
       "  <tbody>\n",
       "    <tr>\n",
       "      <th>Actual Bad Review</th>\n",
       "      <td>176</td>\n",
       "      <td>119</td>\n",
       "    </tr>\n",
       "    <tr>\n",
       "      <th>Actual Good Review</th>\n",
       "      <td>156</td>\n",
       "      <td>213</td>\n",
       "    </tr>\n",
       "  </tbody>\n",
       "</table>\n",
       "</div>"
      ],
      "text/plain": [
       "                    Predicted Bad Review  Predicted Good Review\n",
       "Actual Bad Review                    176                    119\n",
       "Actual Good Review                   156                    213"
      ]
     },
     "execution_count": 263,
     "metadata": {},
     "output_type": "execute_result"
    }
   ],
   "source": [
    "# Display the confusion matrix\n",
    "from sklearn.metrics import confusion_matrix\n",
    "cm = confusion_matrix(y_test, y_pred)\n",
    "cm_df = pd.DataFrame(cm,index=[\"Actual Bad Review\", \"Actual Good Review\"], columns=[\"Predicted Bad Review\", \"Predicted Good Review\"])\n",
    "cm_df"
   ]
  },
  {
   "cell_type": "code",
   "execution_count": 264,
   "metadata": {},
   "outputs": [
    {
     "name": "stdout",
     "output_type": "stream",
     "text": [
      "                   pre       rec       spe        f1       geo       iba       sup\n",
      "\n",
      " bad_review       0.53      0.60      0.58      0.56      0.59      0.35       295\n",
      "good_review       0.64      0.58      0.60      0.61      0.59      0.34       369\n",
      "\n",
      "avg / total       0.59      0.59      0.59      0.59      0.59      0.34       664\n",
      "\n"
     ]
    }
   ],
   "source": [
    "# Print the imbalanced classification report\n",
    "from imblearn.metrics import classification_report_imbalanced\n",
    "print(classification_report_imbalanced(y_test, y_pred))"
   ]
  },
  {
   "attachments": {},
   "cell_type": "markdown",
   "metadata": {},
   "source": [
    "SMOTE Oversampling"
   ]
  },
  {
   "cell_type": "code",
   "execution_count": 265,
   "metadata": {},
   "outputs": [
    {
     "name": "stdout",
     "output_type": "stream",
     "text": [
      "Counter({'bad_review': 1124, 'good_review': 1124})\n"
     ]
    }
   ],
   "source": [
    "# Resample the training data with SMOTE\n",
    "from imblearn.over_sampling import SMOTE\n",
    "X_resampled, y_resampled = SMOTE(random_state=1, sampling_strategy='auto').fit_resample(X_train, y_train)\n",
    "print(Counter(y_resampled[\"rating_good_or_bad\"]))"
   ]
  },
  {
   "cell_type": "code",
   "execution_count": 266,
   "metadata": {},
   "outputs": [
    {
     "data": {
      "text/plain": [
       "LogisticRegression(random_state=1)"
      ]
     },
     "execution_count": 266,
     "metadata": {},
     "output_type": "execute_result"
    }
   ],
   "source": [
    "# Train the Logistic Regression model using the resampled data\n",
    "modelS = LogisticRegression(solver='lbfgs', random_state=1)\n",
    "modelS.fit(X_resampled, y_resampled)"
   ]
  },
  {
   "cell_type": "code",
   "execution_count": 267,
   "metadata": {},
   "outputs": [
    {
     "data": {
      "text/plain": [
       "0.5977584860594369"
      ]
     },
     "execution_count": 267,
     "metadata": {},
     "output_type": "execute_result"
    }
   ],
   "source": [
    "# Calculated the balanced accuracy score\n",
    "# Calculate predictions\n",
    "y_pred = modelS.predict(X_test)\n",
    "\n",
    "# Calculated the balanced accuracy score\n",
    "balanced_accuracy_score(y_test, y_pred)"
   ]
  },
  {
   "cell_type": "code",
   "execution_count": 268,
   "metadata": {},
   "outputs": [
    {
     "data": {
      "text/html": [
       "<div>\n",
       "<style scoped>\n",
       "    .dataframe tbody tr th:only-of-type {\n",
       "        vertical-align: middle;\n",
       "    }\n",
       "\n",
       "    .dataframe tbody tr th {\n",
       "        vertical-align: top;\n",
       "    }\n",
       "\n",
       "    .dataframe thead th {\n",
       "        text-align: right;\n",
       "    }\n",
       "</style>\n",
       "<table border=\"1\" class=\"dataframe\">\n",
       "  <thead>\n",
       "    <tr style=\"text-align: right;\">\n",
       "      <th></th>\n",
       "      <th>Predicted Bad Review</th>\n",
       "      <th>Predicted Good Review</th>\n",
       "    </tr>\n",
       "  </thead>\n",
       "  <tbody>\n",
       "    <tr>\n",
       "      <th>Actual Bad Review</th>\n",
       "      <td>172</td>\n",
       "      <td>123</td>\n",
       "    </tr>\n",
       "    <tr>\n",
       "      <th>Actual Good Review</th>\n",
       "      <td>143</td>\n",
       "      <td>226</td>\n",
       "    </tr>\n",
       "  </tbody>\n",
       "</table>\n",
       "</div>"
      ],
      "text/plain": [
       "                    Predicted Bad Review  Predicted Good Review\n",
       "Actual Bad Review                    172                    123\n",
       "Actual Good Review                   143                    226"
      ]
     },
     "execution_count": 268,
     "metadata": {},
     "output_type": "execute_result"
    }
   ],
   "source": [
    "# Display the confusion matrix\n",
    "cm2 = confusion_matrix(y_test, y_pred)\n",
    "cm2_df =pd.DataFrame(cm2, index=[\"Actual Bad Review\", \"Actual Good Review\"], columns=[\"Predicted Bad Review\", \"Predicted Good Review\"])\n",
    "cm2_df"
   ]
  },
  {
   "cell_type": "code",
   "execution_count": 269,
   "metadata": {},
   "outputs": [
    {
     "name": "stdout",
     "output_type": "stream",
     "text": [
      "                   pre       rec       spe        f1       geo       iba       sup\n",
      "\n",
      " bad_review       0.55      0.58      0.61      0.56      0.60      0.36       295\n",
      "good_review       0.65      0.61      0.58      0.63      0.60      0.36       369\n",
      "\n",
      "avg / total       0.60      0.60      0.60      0.60      0.60      0.36       664\n",
      "\n"
     ]
    }
   ],
   "source": [
    "# Print the imbalanced classification report\n",
    "print(classification_report_imbalanced(y_test, y_pred))"
   ]
  },
  {
   "attachments": {},
   "cell_type": "markdown",
   "metadata": {},
   "source": [
    "Undersampling"
   ]
  },
  {
   "cell_type": "code",
   "execution_count": 270,
   "metadata": {},
   "outputs": [
    {
     "name": "stdout",
     "output_type": "stream",
     "text": [
      "Counter({'bad_review': 867, 'good_review': 867})\n"
     ]
    }
   ],
   "source": [
    "# Resample the data using the ClusterCentroids resampler\n",
    "# Warning: This is a large dataset, and this step may take some time to complete\n",
    "from imblearn.under_sampling import ClusterCentroids\n",
    "cc = ClusterCentroids(random_state=1)\n",
    "X_resampled, y_resampled = cc.fit_resample(X_train, y_train)\n",
    "print(Counter(y_resampled[\"rating_good_or_bad\"]))"
   ]
  },
  {
   "cell_type": "code",
   "execution_count": 271,
   "metadata": {},
   "outputs": [
    {
     "data": {
      "text/plain": [
       "LogisticRegression(random_state=1)"
      ]
     },
     "execution_count": 271,
     "metadata": {},
     "output_type": "execute_result"
    }
   ],
   "source": [
    "# Train the Logistic Regression model using the resampled data\n",
    "modelU = LogisticRegression(solver='lbfgs', random_state=1)\n",
    "modelU.fit(X_resampled, y_resampled)"
   ]
  },
  {
   "cell_type": "code",
   "execution_count": 272,
   "metadata": {},
   "outputs": [
    {
     "data": {
      "text/plain": [
       "0.6065913370998117"
      ]
     },
     "execution_count": 272,
     "metadata": {},
     "output_type": "execute_result"
    }
   ],
   "source": [
    "# Calculated the balanced accuracy score\n",
    "y_pred = modelU.predict(X_test)\n",
    "balanced_accuracy_score(y_test, y_pred)"
   ]
  },
  {
   "cell_type": "code",
   "execution_count": 273,
   "metadata": {},
   "outputs": [
    {
     "data": {
      "text/html": [
       "<div>\n",
       "<style scoped>\n",
       "    .dataframe tbody tr th:only-of-type {\n",
       "        vertical-align: middle;\n",
       "    }\n",
       "\n",
       "    .dataframe tbody tr th {\n",
       "        vertical-align: top;\n",
       "    }\n",
       "\n",
       "    .dataframe thead th {\n",
       "        text-align: right;\n",
       "    }\n",
       "</style>\n",
       "<table border=\"1\" class=\"dataframe\">\n",
       "  <thead>\n",
       "    <tr style=\"text-align: right;\">\n",
       "      <th></th>\n",
       "      <th>Predicted Bad Review</th>\n",
       "      <th>Predicted Good Review</th>\n",
       "    </tr>\n",
       "  </thead>\n",
       "  <tbody>\n",
       "    <tr>\n",
       "      <th>Actual Bad Review</th>\n",
       "      <td>194</td>\n",
       "      <td>101</td>\n",
       "    </tr>\n",
       "    <tr>\n",
       "      <th>Actual Good Review</th>\n",
       "      <td>164</td>\n",
       "      <td>205</td>\n",
       "    </tr>\n",
       "  </tbody>\n",
       "</table>\n",
       "</div>"
      ],
      "text/plain": [
       "                    Predicted Bad Review  Predicted Good Review\n",
       "Actual Bad Review                    194                    101\n",
       "Actual Good Review                   164                    205"
      ]
     },
     "execution_count": 273,
     "metadata": {},
     "output_type": "execute_result"
    }
   ],
   "source": [
    "# Display the confusion matrix\n",
    "cm3 = confusion_matrix(y_test, y_pred)\n",
    "cm3_df =pd.DataFrame(cm3, index=[\"Actual Bad Review\", \"Actual Good Review\"], columns=[\"Predicted Bad Review\", \"Predicted Good Review\"])\n",
    "cm3_df"
   ]
  },
  {
   "cell_type": "code",
   "execution_count": 274,
   "metadata": {},
   "outputs": [
    {
     "name": "stdout",
     "output_type": "stream",
     "text": [
      "                   pre       rec       spe        f1       geo       iba       sup\n",
      "\n",
      " bad_review       0.54      0.66      0.56      0.59      0.60      0.37       295\n",
      "good_review       0.67      0.56      0.66      0.61      0.60      0.36       369\n",
      "\n",
      "avg / total       0.61      0.60      0.61      0.60      0.60      0.36       664\n",
      "\n"
     ]
    }
   ],
   "source": [
    "# Print the imbalanced classification report\n",
    "print(classification_report_imbalanced(y_test, y_pred))"
   ]
  },
  {
   "attachments": {},
   "cell_type": "markdown",
   "metadata": {},
   "source": [
    "Combo (over and under) sampling"
   ]
  },
  {
   "cell_type": "code",
   "execution_count": 275,
   "metadata": {},
   "outputs": [
    {
     "name": "stdout",
     "output_type": "stream",
     "text": [
      "Counter({'bad_review': 405, 'good_review': 326})\n"
     ]
    }
   ],
   "source": [
    "# Resample the training data with SMOTEENN\n",
    "# Warning: This is a large dataset, and this step may take some time to complete\n",
    "from imblearn.combine import SMOTEENN\n",
    "\n",
    "smote_enn = SMOTEENN(random_state=0)\n",
    "X_resampled, y_resampled = smote_enn.fit_resample(X,y)\n",
    "print(Counter(y_resampled[\"rating_good_or_bad\"]))"
   ]
  },
  {
   "cell_type": "code",
   "execution_count": 276,
   "metadata": {},
   "outputs": [
    {
     "data": {
      "text/plain": [
       "LogisticRegression(random_state=1)"
      ]
     },
     "execution_count": 276,
     "metadata": {},
     "output_type": "execute_result"
    }
   ],
   "source": [
    "# Train the Logistic Regression model using the resampled data\n",
    "mlenn = LogisticRegression(solver='lbfgs',random_state=1)\n",
    "mlenn.fit(X_resampled, y_resampled)"
   ]
  },
  {
   "cell_type": "code",
   "execution_count": 277,
   "metadata": {},
   "outputs": [
    {
     "data": {
      "text/plain": [
       "0.5957420421661844"
      ]
     },
     "execution_count": 277,
     "metadata": {},
     "output_type": "execute_result"
    }
   ],
   "source": [
    "# Calculated the balanced accuracy score\n",
    "y_pred = mlenn.predict(X_test)\n",
    "balanced_accuracy_score(y_test, y_pred)"
   ]
  },
  {
   "cell_type": "code",
   "execution_count": 278,
   "metadata": {},
   "outputs": [
    {
     "data": {
      "text/html": [
       "<div>\n",
       "<style scoped>\n",
       "    .dataframe tbody tr th:only-of-type {\n",
       "        vertical-align: middle;\n",
       "    }\n",
       "\n",
       "    .dataframe tbody tr th {\n",
       "        vertical-align: top;\n",
       "    }\n",
       "\n",
       "    .dataframe thead th {\n",
       "        text-align: right;\n",
       "    }\n",
       "</style>\n",
       "<table border=\"1\" class=\"dataframe\">\n",
       "  <thead>\n",
       "    <tr style=\"text-align: right;\">\n",
       "      <th></th>\n",
       "      <th>Predicted Bad Review</th>\n",
       "      <th>Predicted Good Review</th>\n",
       "    </tr>\n",
       "  </thead>\n",
       "  <tbody>\n",
       "    <tr>\n",
       "      <th>Actual Bad Review</th>\n",
       "      <td>186</td>\n",
       "      <td>109</td>\n",
       "    </tr>\n",
       "    <tr>\n",
       "      <th>Actual Good Review</th>\n",
       "      <td>162</td>\n",
       "      <td>207</td>\n",
       "    </tr>\n",
       "  </tbody>\n",
       "</table>\n",
       "</div>"
      ],
      "text/plain": [
       "                    Predicted Bad Review  Predicted Good Review\n",
       "Actual Bad Review                    186                    109\n",
       "Actual Good Review                   162                    207"
      ]
     },
     "execution_count": 278,
     "metadata": {},
     "output_type": "execute_result"
    }
   ],
   "source": [
    "# Display the confusion matrix\n",
    "cm4 = confusion_matrix(y_test, y_pred)\n",
    "cm4_df =pd.DataFrame(cm4, index=[\"Actual Bad Review\", \"Actual Good Review\"], columns=[\"Predicted Bad Review\", \"Predicted Good Review\"])\n",
    "cm4_df"
   ]
  },
  {
   "cell_type": "code",
   "execution_count": 279,
   "metadata": {},
   "outputs": [
    {
     "name": "stdout",
     "output_type": "stream",
     "text": [
      "                   pre       rec       spe        f1       geo       iba       sup\n",
      "\n",
      " bad_review       0.53      0.63      0.56      0.58      0.59      0.36       295\n",
      "good_review       0.66      0.56      0.63      0.60      0.59      0.35       369\n",
      "\n",
      "avg / total       0.60      0.59      0.60      0.59      0.59      0.35       664\n",
      "\n"
     ]
    }
   ],
   "source": [
    "# Print the imbalanced classification report\n",
    "print(classification_report_imbalanced(y_test, y_pred))"
   ]
  },
  {
   "attachments": {},
   "cell_type": "markdown",
   "metadata": {},
   "source": [
    "Random Forest"
   ]
  },
  {
   "cell_type": "code",
   "execution_count": 280,
   "metadata": {},
   "outputs": [
    {
     "name": "stdout",
     "output_type": "stream",
     "text": [
      "Counter({'good_review': 1124, 'bad_review': 867})\n"
     ]
    }
   ],
   "source": [
    "# Resample the training data with the BalancedRandomForestClassifier\n",
    "from imblearn.ensemble import BalancedRandomForestClassifier\n",
    "random_model = BalancedRandomForestClassifier(n_estimators=100, random_state=1)\n",
    "random_model.fit(X_train, y_train)\n",
    "print(Counter(y_train[\"rating_good_or_bad\"]))"
   ]
  },
  {
   "cell_type": "code",
   "execution_count": 281,
   "metadata": {},
   "outputs": [
    {
     "data": {
      "text/plain": [
       "0.5848973404988287"
      ]
     },
     "execution_count": 281,
     "metadata": {},
     "output_type": "execute_result"
    }
   ],
   "source": [
    "# Calculated the balanced accuracy score\n",
    "y_pred = random_model.predict(X_test)\n",
    "from sklearn.metrics import confusion_matrix, accuracy_score\n",
    "balanced_accuracy_score(y_test, y_pred)"
   ]
  },
  {
   "cell_type": "code",
   "execution_count": 282,
   "metadata": {},
   "outputs": [
    {
     "data": {
      "text/html": [
       "<div>\n",
       "<style scoped>\n",
       "    .dataframe tbody tr th:only-of-type {\n",
       "        vertical-align: middle;\n",
       "    }\n",
       "\n",
       "    .dataframe tbody tr th {\n",
       "        vertical-align: top;\n",
       "    }\n",
       "\n",
       "    .dataframe thead th {\n",
       "        text-align: right;\n",
       "    }\n",
       "</style>\n",
       "<table border=\"1\" class=\"dataframe\">\n",
       "  <thead>\n",
       "    <tr style=\"text-align: right;\">\n",
       "      <th></th>\n",
       "      <th>Predicted Bad Review</th>\n",
       "      <th>Predicted Good Review</th>\n",
       "    </tr>\n",
       "  </thead>\n",
       "  <tbody>\n",
       "    <tr>\n",
       "      <th>Actual Bad Review</th>\n",
       "      <td>182</td>\n",
       "      <td>113</td>\n",
       "    </tr>\n",
       "    <tr>\n",
       "      <th>Actual Good Review</th>\n",
       "      <td>165</td>\n",
       "      <td>204</td>\n",
       "    </tr>\n",
       "  </tbody>\n",
       "</table>\n",
       "</div>"
      ],
      "text/plain": [
       "                    Predicted Bad Review  Predicted Good Review\n",
       "Actual Bad Review                    182                    113\n",
       "Actual Good Review                   165                    204"
      ]
     },
     "execution_count": 282,
     "metadata": {},
     "output_type": "execute_result"
    }
   ],
   "source": [
    "# Display the confusion matrix\n",
    "cm5 = confusion_matrix(y_test, y_pred)\n",
    "cm5_df =pd.DataFrame(cm5, index=[\"Actual Bad Review\", \"Actual Good Review\"], columns=[\"Predicted Bad Review\", \"Predicted Good Review\"])\n",
    "cm5_df"
   ]
  },
  {
   "cell_type": "code",
   "execution_count": 283,
   "metadata": {},
   "outputs": [
    {
     "name": "stdout",
     "output_type": "stream",
     "text": [
      "                   pre       rec       spe        f1       geo       iba       sup\n",
      "\n",
      " bad_review       0.52      0.62      0.55      0.57      0.58      0.34       295\n",
      "good_review       0.64      0.55      0.62      0.59      0.58      0.34       369\n",
      "\n",
      "avg / total       0.59      0.58      0.59      0.58      0.58      0.34       664\n",
      "\n"
     ]
    }
   ],
   "source": [
    "# Print the imbalanced classification report\n",
    "print(classification_report_imbalanced(y_test, y_pred))"
   ]
  },
  {
   "cell_type": "code",
   "execution_count": 284,
   "metadata": {},
   "outputs": [
    {
     "name": "stdout",
     "output_type": "stream",
     "text": [
      "host_response_rate: 13.2%:\n",
      "location_other: 3.8%:\n",
      "cp_moderate: 3.7%:\n",
      "cp_flexible: 3.5%:\n",
      "cp_strict: 3.4%:\n",
      "pt_apartment: 3.4%:\n",
      "location_capital_hill: 3.2%:\n",
      "pt_house: 3.2%:\n",
      "host_does_have_identity_ver: 3.1%:\n",
      "rt_private_room: 3.1%:\n",
      "host_does_not_have_identity_ver: 3.0%:\n",
      "rt_entire_home: 2.9%:\n",
      "instantly_bookable: 2.8%:\n",
      "location_central_area: 2.8%:\n",
      "location_ballard: 2.7%:\n",
      "not_instantly_bookable: 2.7%:\n",
      "location_queen_anne: 2.5%:\n",
      "location_downtown: 2.5%:\n",
      "location_rainier_vally: 1.9%:\n",
      "location_west_seattle: 1.9%:\n",
      "location_beacon_hill: 1.8%:\n",
      "location_university_district: 1.5%:\n",
      "host_response_time_within a few hours: 1.5%:\n",
      "rt_within_hours: 1.5%:\n",
      "rt_few_hours: 1.5%:\n",
      "host_response_time_within an hour: 1.4%:\n",
      "host_response_time_within a day: 1.3%:\n",
      "rt_within_day: 1.3%:\n",
      "bt_real_bed: 1.2%:\n",
      "pt_townhouse: 1.2%:\n",
      "location_northgate: 1.2%:\n",
      "does_not_require_guest_phone_verification: 1.1%:\n",
      "location_delridge: 1.1%:\n",
      "requires_guest_phone_verification: 1.0%:\n",
      "location_lake_city: 1.0%:\n",
      "does_not_require_guest_prof_pic: 0.9%:\n",
      "pt_condo: 0.9%:\n",
      "location_cascade: 0.9%:\n",
      "requires_guest_profile_pic: 0.8%:\n",
      "location_magnolia: 0.8%:\n",
      "bt_futon: 0.8%:\n",
      "rt_shared_room: 0.7%:\n",
      "location_seward_park: 0.7%:\n",
      "pt_loft: 0.6%:\n",
      "bt_air_bed: 0.6%:\n",
      "bt_pull_out_sofa: 0.5%:\n",
      "pt_b&b: 0.5%:\n",
      "pt_other: 0.4%:\n",
      "pt_cabin: 0.3%:\n",
      "pt_bungalow: 0.2%:\n",
      "pt_rv: 0.2%:\n",
      "rt_few_days: 0.2%:\n",
      "host_response_time_a few days or more: 0.2%:\n",
      "bt_couch: 0.1%:\n",
      "location_interbay: 0.1%:\n",
      "host_does_not_have_profile_pic: 0.1%:\n",
      "pt_treehouse: 0.1%:\n",
      "host_does_have_profile_pic: 0.1%:\n",
      "pt_dorm: 0.0%:\n",
      "pt_chalet: 0.0%:\n",
      "pt_tent: 0.0%:\n",
      "host_acceptance_rate: 0.0%:\n",
      "pt_yurt: 0.0%:\n",
      "pt_boat: 0.0%:\n",
      "host_does_not_require_license: 0.0%:\n"
     ]
    }
   ],
   "source": [
    "# List the features sorted in descending order by feature importance\n",
    "importances = sorted(zip(random_model.feature_importances_,X.columns), reverse=True)\n",
    "for importance in importances:\n",
    "    print(f'{importance[1]}: {importance[0]*100:.1f}%:')"
   ]
  },
  {
   "attachments": {},
   "cell_type": "markdown",
   "metadata": {},
   "source": [
    "Easy Ensemble "
   ]
  },
  {
   "cell_type": "code",
   "execution_count": 285,
   "metadata": {},
   "outputs": [
    {
     "name": "stdout",
     "output_type": "stream",
     "text": [
      "Counter({'good_review': 1124, 'bad_review': 867})\n"
     ]
    }
   ],
   "source": [
    "# Train the EasyEnsembleClassifier\n",
    "from imblearn.ensemble import EasyEnsembleClassifier\n",
    "easy_model = EasyEnsembleClassifier(n_estimators=100, random_state=1)\n",
    "easy_model.fit(X_train, y_train)\n",
    "print(Counter(y_train[\"rating_good_or_bad\"]))"
   ]
  },
  {
   "cell_type": "code",
   "execution_count": 286,
   "metadata": {},
   "outputs": [
    {
     "data": {
      "text/plain": [
       "0.5892930963207936"
      ]
     },
     "execution_count": 286,
     "metadata": {},
     "output_type": "execute_result"
    }
   ],
   "source": [
    "# Calculated the balanced accuracy score\n",
    "y_pred = easy_model.predict(X_test)\n",
    "from sklearn.metrics import balanced_accuracy_score\n",
    "balanced_accuracy_score(y_test,y_pred)"
   ]
  },
  {
   "cell_type": "code",
   "execution_count": 287,
   "metadata": {},
   "outputs": [
    {
     "data": {
      "text/html": [
       "<div>\n",
       "<style scoped>\n",
       "    .dataframe tbody tr th:only-of-type {\n",
       "        vertical-align: middle;\n",
       "    }\n",
       "\n",
       "    .dataframe tbody tr th {\n",
       "        vertical-align: top;\n",
       "    }\n",
       "\n",
       "    .dataframe thead th {\n",
       "        text-align: right;\n",
       "    }\n",
       "</style>\n",
       "<table border=\"1\" class=\"dataframe\">\n",
       "  <thead>\n",
       "    <tr style=\"text-align: right;\">\n",
       "      <th></th>\n",
       "      <th>Predicted Bad Review</th>\n",
       "      <th>Predicted Good Review</th>\n",
       "    </tr>\n",
       "  </thead>\n",
       "  <tbody>\n",
       "    <tr>\n",
       "      <th>Actual Bad Review</th>\n",
       "      <td>175</td>\n",
       "      <td>120</td>\n",
       "    </tr>\n",
       "    <tr>\n",
       "      <th>Actual Good Review</th>\n",
       "      <td>153</td>\n",
       "      <td>216</td>\n",
       "    </tr>\n",
       "  </tbody>\n",
       "</table>\n",
       "</div>"
      ],
      "text/plain": [
       "                    Predicted Bad Review  Predicted Good Review\n",
       "Actual Bad Review                    175                    120\n",
       "Actual Good Review                   153                    216"
      ]
     },
     "execution_count": 287,
     "metadata": {},
     "output_type": "execute_result"
    }
   ],
   "source": [
    "# Display the confusion matrix\n",
    "cm6 = confusion_matrix(y_test, y_pred)\n",
    "cm6_df =pd.DataFrame(cm6, index=[\"Actual Bad Review\", \"Actual Good Review\"], columns=[\"Predicted Bad Review\", \"Predicted Good Review\"])\n",
    "cm6_df"
   ]
  },
  {
   "cell_type": "code",
   "execution_count": 288,
   "metadata": {},
   "outputs": [
    {
     "name": "stdout",
     "output_type": "stream",
     "text": [
      "                   pre       rec       spe        f1       geo       iba       sup\n",
      "\n",
      " bad_review       0.53      0.59      0.59      0.56      0.59      0.35       295\n",
      "good_review       0.64      0.59      0.59      0.61      0.59      0.35       369\n",
      "\n",
      "avg / total       0.59      0.59      0.59      0.59      0.59      0.35       664\n",
      "\n"
     ]
    }
   ],
   "source": [
    "# Print the imbalanced classification report\n",
    "print(classification_report_imbalanced(y_test, y_pred))"
   ]
  }
 ],
 "metadata": {
  "kernelspec": {
   "display_name": "Python 3",
   "language": "python",
   "name": "python3"
  },
  "language_info": {
   "codemirror_mode": {
    "name": "ipython",
    "version": 3
   },
   "file_extension": ".py",
   "mimetype": "text/x-python",
   "name": "python",
   "nbconvert_exporter": "python",
   "pygments_lexer": "ipython3",
   "version": "3.7.13"
  },
  "orig_nbformat": 4,
  "vscode": {
   "interpreter": {
    "hash": "86969af4118fd2beaee010b14a97d3c8fe7dc31ff55f1528eea7eaecb45368d6"
   }
  }
 },
 "nbformat": 4,
 "nbformat_minor": 2
}
