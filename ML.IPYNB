{
 "cells": [
  {
   "cell_type": "code",
   "execution_count": 15,
   "metadata": {},
   "outputs": [],
   "source": [
    "import warnings\n",
    "warnings.filterwarnings('ignore')\n",
    "import numpy as np\n",
    "import pandas as pd\n",
    "from pathlib import Path\n",
    "from collections import Counter"
   ]
  },
  {
   "cell_type": "code",
   "execution_count": 16,
   "metadata": {},
   "outputs": [],
   "source": [
    "columns = [\n",
    "   \"rating_good_or_bad\",\"accept_rate_below_avg\",\"accept_rate_above_avg\",\"response_rate_below_avg\",\"response_rate_above_avg\",\"below_avg_num_of_reviews\",\n",
    "   \"above_avg_num_of_reviews\",\"below_avg_num_of_accom\",\"above_avg_num_of_accom\",\"below_avg_num_of_bedrooms\",\"above_avg_num_of_bedrooms\",\"below_avg_num_of_beds\",\n",
    "   \"above_avg_num_of_beds\",\"below_avg_num_of_baths\",\"above_avg_num_of_baths\",\"not_a_superhost\",\"a_superhost\",\"host_does_not_have_profile_pic\",\n",
    "   \"host_does_have_profile_pic\",\"host_does_not_have_identity_ver\",\"host_does_have_identity_ver\",\"not_instantly_bookable\",\"instantly_bookable\",\n",
    "   \"does_not_require_guest_prof_pic\",\"requires_guest_profile_pic\",\"does_not_require_guest_phone_verification\",\"requires_guest_phone_verification\",\n",
    "   \"rt_few_days\",\"rt_within_day\",\"rt_few_hours\",\"rt_within_hours\",\"location_ballard\",\"location_beacon_hill\",\"location_capital_hill\",\n",
    "   \"location_cascade\",\"location_central_area\",\"location_delridge\",\"location_downtown\",\"location_interbay\",\"location_lake_city\",\"location_magnolia\",\n",
    "   \"location_northgate\",\"location_other\",\"location_queen_anne\",\"location_rainier_vally\",\"location_seward_park\",\"location_university_district\",\n",
    "   \"location_west_seattle\",\"pt_apartment\",\"pt_b&b\",\"pt_boat\",\"pt_bungalow\",\"pt_cabin\",\"pt_rv\",\"pt_chalet\",\"pt_condo\",\"pt_dorm\",\"pt_house\",\"pt_loft\",\n",
    "   \"pt_other\",\"pt_tent\",\"pt_townhouse\",\"pt_treehouse\",\"pt_yurt\",\"rt_entire_home\",\"rt_private_room\",\"rt_shared_room\",\"bt_air_bed\",\"bt_couch\",\n",
    "   \"bt_futon\",\"bt_pull_out_sofa\",\"bt_real_bed\",\"cp_flexible\",\"cp_moderate\",\"cp_strict\"\n",
    "]\n",
    "\n",
    "# columns = [\n",
    "# \"id\",\"host_id\",\"booking_id\",\"name\",\"neighbourhood_group\",\"city\",\"state\",\"zipcode\",\"latitude\",\"longitude\",\"property_type\",\"room_type\",\n",
    "# \"accommodates\",\"bathrooms\",\"bedrooms\",\"beds\",\"bed_type\",\"instant_bookable\",\"cancellation_policy\",\"require_guest_profile_picture\",\"require_guest_phone_verification\",\n",
    "# \"number_of_reviews\",\"first_review\",\"last_review\",\"review_scores_rating\",\"review_scores_accuracy\",\"review_scores_cleanliness\",\"review_scores_checkin\",\"review_scores_communication\",\n",
    "# \"review_scores_location\",\"review_scores_value\",\"reviews_per_month\",\"host_name\",\"host_since\",\"host_listings_count\",\"host_location\",\"host_response_time\",\"host_response_rate\",\n",
    "# \"host_acceptance_rate\",\"host_is_superhost\",\"host_has_profile_pic\",\"host_identity_verified\",\"rating_good_or_bad\",\"num_of_reivews_gt_avg\",\"num_of_accom_gt_avg\",\n",
    "# \"num_of_bedrooms_gt_avg\",\"num_of_beds_gt_avg\",\"num_of_baths_gt_avg\",\"response_rate_gt_avg\",\"accept_rate_gt_avg\",\"accept_rate_below_avg\",\"accept_rate_above_avg\",\n",
    "# \"response_rate_below_avg\",\"response_rate_above_avg\",\"below_avg_num_of_reviews\",\"above_avg_num_of_reviews\",\"below_avg_num_of_accom\",\"above_avg_num_of_accom\",\n",
    "# \"below_avg_num_of_bedrooms\",\"above_avg_num_of_bedrooms\",\"below_avg_num_of_beds\",\"above_avg_num_of_beds\",\"below_avg_num_of_baths\",\"above_avg_num_of_baths\",\n",
    "# \"not_a_superhost\",\"a_superhost\",\"host_does_not_have_profile_pic\",\"host_does_have_profile_pic\",\"host_does_not_have_identity_ver\",\"host_does_have_identity_ver\",\n",
    "# \"not_instantly_bookable\",\"instantly_bookable\",\"does_not_require_guest_prof_pic\",\"requires_guest_profile_pic\",\"does_not_require_guest_phone_verification\",\n",
    "# \"requires_guest_phone_verification\",\"rt_few_days\",\"rt_within_day\",\"rt_few_hours\",\"rt_within_hours\",\"location_ballard\",\"location_beacon_hill\",\"location_capital_hill\",\n",
    "# \"location_cascade\",\"location_central_area\",\"location_delridge\",\"location_downtown\",\"location_interbay\",\"location_lake_city\",\"location_magnolia\",\"location_northgate\",\n",
    "# \"location_other\",\"location_queen_anne\",\"location_rainier_vally\",\"location_seward_park\",\"location_university_district\",\"location_west_seattle\",\"pt_apartment\",\n",
    "# \"pt_b&b\",\"pt_boat\",\"pt_bungalow\",\"pt_cabin\",\"pt_rv\",\"pt_chalet\",\"pt_condo\",\"pt_dorm\",\"pt_house\",\"pt_loft\",\"pt_other\",\"pt_tent\",\"pt_townhouse\",\"pt_treehouse\",\n",
    "# \"pt_yurt\",\"rt_entire_home\",\"rt_private_room\",\"rt_shared_room\",\"bt_air_bed\",\"bt_couch\",\"bt_futon\",\"bt_pull_out_sofa\",\"bt_real_bed\",\"cp_flexible\",\"cp_moderate\",\"cp_strict\"\n",
    "# ]\n",
    "\n",
    "target = [\"rating_good_or_bad\"]"
   ]
  },
  {
   "cell_type": "code",
   "execution_count": 58,
   "metadata": {},
   "outputs": [
    {
     "data": {
      "text/html": [
       "<div>\n",
       "<style scoped>\n",
       "    .dataframe tbody tr th:only-of-type {\n",
       "        vertical-align: middle;\n",
       "    }\n",
       "\n",
       "    .dataframe tbody tr th {\n",
       "        vertical-align: top;\n",
       "    }\n",
       "\n",
       "    .dataframe thead th {\n",
       "        text-align: right;\n",
       "    }\n",
       "</style>\n",
       "<table border=\"1\" class=\"dataframe\">\n",
       "  <thead>\n",
       "    <tr style=\"text-align: right;\">\n",
       "      <th></th>\n",
       "      <th>rating_good_or_bad</th>\n",
       "      <th>accept_rate_below_avg</th>\n",
       "      <th>accept_rate_above_avg</th>\n",
       "      <th>response_rate_below_avg</th>\n",
       "      <th>response_rate_above_avg</th>\n",
       "      <th>below_avg_num_of_reviews</th>\n",
       "      <th>above_avg_num_of_reviews</th>\n",
       "      <th>below_avg_num_of_accom</th>\n",
       "      <th>above_avg_num_of_accom</th>\n",
       "      <th>below_avg_num_of_bedrooms</th>\n",
       "      <th>...</th>\n",
       "      <th>rt_private_room</th>\n",
       "      <th>rt_shared_room</th>\n",
       "      <th>bt_air_bed</th>\n",
       "      <th>bt_couch</th>\n",
       "      <th>bt_futon</th>\n",
       "      <th>bt_pull_out_sofa</th>\n",
       "      <th>bt_real_bed</th>\n",
       "      <th>cp_flexible</th>\n",
       "      <th>cp_moderate</th>\n",
       "      <th>cp_strict</th>\n",
       "    </tr>\n",
       "  </thead>\n",
       "  <tbody>\n",
       "    <tr>\n",
       "      <th>0</th>\n",
       "      <td>bad_review</td>\n",
       "      <td>0.0</td>\n",
       "      <td>1.0</td>\n",
       "      <td>0.0</td>\n",
       "      <td>1.0</td>\n",
       "      <td>0.0</td>\n",
       "      <td>1.0</td>\n",
       "      <td>1.0</td>\n",
       "      <td>0.0</td>\n",
       "      <td>1.0</td>\n",
       "      <td>...</td>\n",
       "      <td>0.0</td>\n",
       "      <td>1.0</td>\n",
       "      <td>0.0</td>\n",
       "      <td>0.0</td>\n",
       "      <td>1.0</td>\n",
       "      <td>0.0</td>\n",
       "      <td>0.0</td>\n",
       "      <td>0.0</td>\n",
       "      <td>0.0</td>\n",
       "      <td>1.0</td>\n",
       "    </tr>\n",
       "    <tr>\n",
       "      <th>1</th>\n",
       "      <td>good_review</td>\n",
       "      <td>0.0</td>\n",
       "      <td>1.0</td>\n",
       "      <td>0.0</td>\n",
       "      <td>1.0</td>\n",
       "      <td>1.0</td>\n",
       "      <td>0.0</td>\n",
       "      <td>1.0</td>\n",
       "      <td>0.0</td>\n",
       "      <td>1.0</td>\n",
       "      <td>...</td>\n",
       "      <td>0.0</td>\n",
       "      <td>1.0</td>\n",
       "      <td>0.0</td>\n",
       "      <td>0.0</td>\n",
       "      <td>1.0</td>\n",
       "      <td>0.0</td>\n",
       "      <td>0.0</td>\n",
       "      <td>0.0</td>\n",
       "      <td>0.0</td>\n",
       "      <td>1.0</td>\n",
       "    </tr>\n",
       "    <tr>\n",
       "      <th>2</th>\n",
       "      <td>good_review</td>\n",
       "      <td>0.0</td>\n",
       "      <td>1.0</td>\n",
       "      <td>0.0</td>\n",
       "      <td>1.0</td>\n",
       "      <td>1.0</td>\n",
       "      <td>0.0</td>\n",
       "      <td>1.0</td>\n",
       "      <td>0.0</td>\n",
       "      <td>1.0</td>\n",
       "      <td>...</td>\n",
       "      <td>1.0</td>\n",
       "      <td>0.0</td>\n",
       "      <td>0.0</td>\n",
       "      <td>0.0</td>\n",
       "      <td>0.0</td>\n",
       "      <td>0.0</td>\n",
       "      <td>1.0</td>\n",
       "      <td>0.0</td>\n",
       "      <td>0.0</td>\n",
       "      <td>1.0</td>\n",
       "    </tr>\n",
       "    <tr>\n",
       "      <th>3</th>\n",
       "      <td>bad_review</td>\n",
       "      <td>0.0</td>\n",
       "      <td>1.0</td>\n",
       "      <td>0.0</td>\n",
       "      <td>1.0</td>\n",
       "      <td>1.0</td>\n",
       "      <td>0.0</td>\n",
       "      <td>1.0</td>\n",
       "      <td>0.0</td>\n",
       "      <td>1.0</td>\n",
       "      <td>...</td>\n",
       "      <td>0.0</td>\n",
       "      <td>1.0</td>\n",
       "      <td>0.0</td>\n",
       "      <td>0.0</td>\n",
       "      <td>1.0</td>\n",
       "      <td>0.0</td>\n",
       "      <td>0.0</td>\n",
       "      <td>0.0</td>\n",
       "      <td>0.0</td>\n",
       "      <td>1.0</td>\n",
       "    </tr>\n",
       "    <tr>\n",
       "      <th>4</th>\n",
       "      <td>good_review</td>\n",
       "      <td>0.0</td>\n",
       "      <td>1.0</td>\n",
       "      <td>0.0</td>\n",
       "      <td>1.0</td>\n",
       "      <td>1.0</td>\n",
       "      <td>0.0</td>\n",
       "      <td>1.0</td>\n",
       "      <td>0.0</td>\n",
       "      <td>1.0</td>\n",
       "      <td>...</td>\n",
       "      <td>1.0</td>\n",
       "      <td>0.0</td>\n",
       "      <td>0.0</td>\n",
       "      <td>0.0</td>\n",
       "      <td>1.0</td>\n",
       "      <td>0.0</td>\n",
       "      <td>0.0</td>\n",
       "      <td>0.0</td>\n",
       "      <td>0.0</td>\n",
       "      <td>1.0</td>\n",
       "    </tr>\n",
       "  </tbody>\n",
       "</table>\n",
       "<p>5 rows × 75 columns</p>\n",
       "</div>"
      ],
      "text/plain": [
       "  rating_good_or_bad  accept_rate_below_avg  accept_rate_above_avg  \\\n",
       "0         bad_review                    0.0                    1.0   \n",
       "1        good_review                    0.0                    1.0   \n",
       "2        good_review                    0.0                    1.0   \n",
       "3         bad_review                    0.0                    1.0   \n",
       "4        good_review                    0.0                    1.0   \n",
       "\n",
       "   response_rate_below_avg  response_rate_above_avg  below_avg_num_of_reviews  \\\n",
       "0                      0.0                      1.0                       0.0   \n",
       "1                      0.0                      1.0                       1.0   \n",
       "2                      0.0                      1.0                       1.0   \n",
       "3                      0.0                      1.0                       1.0   \n",
       "4                      0.0                      1.0                       1.0   \n",
       "\n",
       "   above_avg_num_of_reviews  below_avg_num_of_accom  above_avg_num_of_accom  \\\n",
       "0                       1.0                     1.0                     0.0   \n",
       "1                       0.0                     1.0                     0.0   \n",
       "2                       0.0                     1.0                     0.0   \n",
       "3                       0.0                     1.0                     0.0   \n",
       "4                       0.0                     1.0                     0.0   \n",
       "\n",
       "   below_avg_num_of_bedrooms  ...  rt_private_room  rt_shared_room  \\\n",
       "0                        1.0  ...              0.0             1.0   \n",
       "1                        1.0  ...              0.0             1.0   \n",
       "2                        1.0  ...              1.0             0.0   \n",
       "3                        1.0  ...              0.0             1.0   \n",
       "4                        1.0  ...              1.0             0.0   \n",
       "\n",
       "   bt_air_bed  bt_couch  bt_futon  bt_pull_out_sofa  bt_real_bed  cp_flexible  \\\n",
       "0         0.0       0.0       1.0               0.0          0.0          0.0   \n",
       "1         0.0       0.0       1.0               0.0          0.0          0.0   \n",
       "2         0.0       0.0       0.0               0.0          1.0          0.0   \n",
       "3         0.0       0.0       1.0               0.0          0.0          0.0   \n",
       "4         0.0       0.0       1.0               0.0          0.0          0.0   \n",
       "\n",
       "   cp_moderate  cp_strict  \n",
       "0          0.0        1.0  \n",
       "1          0.0        1.0  \n",
       "2          0.0        1.0  \n",
       "3          0.0        1.0  \n",
       "4          0.0        1.0  \n",
       "\n",
       "[5 rows x 75 columns]"
      ]
     },
     "execution_count": 58,
     "metadata": {},
     "output_type": "execute_result"
    }
   ],
   "source": [
    "# Load the data\n",
    "file_path = Path('ml_final_data.csv')\n",
    "df = pd.read_csv(file_path)\n",
    "df = df.loc[:, columns].copy()\n",
    "\n",
    "# Drop the null columns where all values are null\n",
    "df = df.dropna(axis='columns', how='all')\n",
    "\n",
    "# Drop the null rows\n",
    "df = df.dropna()\n",
    "\n",
    "\n",
    "# convert interest rate to numerical\n",
    "# df['host_response_rate'] = df['host_response_rate'].str.replace('%', '')\n",
    "# df['host_response_rate'] = df['host_response_rate'].astype('float') / 100\n",
    "# df['host_acceptance_rate'] = df['host_acceptance_rate'].str.replace('%', '')\n",
    "# df['host_acceptance_rate'] = df['host_acceptance_rate'].astype('float') / 100\n",
    "\n",
    "df.reset_index(inplace=True, drop=True)\n",
    "\n",
    "df.head()"
   ]
  },
  {
   "cell_type": "code",
   "execution_count": 18,
   "metadata": {},
   "outputs": [],
   "source": [
    "# Create our features\n",
    "X = df.drop(\"rating_good_or_bad\",axis=1)\n",
    "X = pd.get_dummies(X)\n",
    "\n",
    "\n",
    "# Create our target\n",
    "y = df.loc[:,target].copy()"
   ]
  },
  {
   "cell_type": "code",
   "execution_count": 19,
   "metadata": {},
   "outputs": [
    {
     "data": {
      "text/html": [
       "<div>\n",
       "<style scoped>\n",
       "    .dataframe tbody tr th:only-of-type {\n",
       "        vertical-align: middle;\n",
       "    }\n",
       "\n",
       "    .dataframe tbody tr th {\n",
       "        vertical-align: top;\n",
       "    }\n",
       "\n",
       "    .dataframe thead th {\n",
       "        text-align: right;\n",
       "    }\n",
       "</style>\n",
       "<table border=\"1\" class=\"dataframe\">\n",
       "  <thead>\n",
       "    <tr style=\"text-align: right;\">\n",
       "      <th></th>\n",
       "      <th>accept_rate_below_avg</th>\n",
       "      <th>accept_rate_above_avg</th>\n",
       "      <th>response_rate_below_avg</th>\n",
       "      <th>response_rate_above_avg</th>\n",
       "      <th>below_avg_num_of_reviews</th>\n",
       "      <th>above_avg_num_of_reviews</th>\n",
       "      <th>below_avg_num_of_accom</th>\n",
       "      <th>above_avg_num_of_accom</th>\n",
       "      <th>below_avg_num_of_bedrooms</th>\n",
       "      <th>above_avg_num_of_bedrooms</th>\n",
       "      <th>...</th>\n",
       "      <th>rt_private_room</th>\n",
       "      <th>rt_shared_room</th>\n",
       "      <th>bt_air_bed</th>\n",
       "      <th>bt_couch</th>\n",
       "      <th>bt_futon</th>\n",
       "      <th>bt_pull_out_sofa</th>\n",
       "      <th>bt_real_bed</th>\n",
       "      <th>cp_flexible</th>\n",
       "      <th>cp_moderate</th>\n",
       "      <th>cp_strict</th>\n",
       "    </tr>\n",
       "  </thead>\n",
       "  <tbody>\n",
       "    <tr>\n",
       "      <th>count</th>\n",
       "      <td>2651.000000</td>\n",
       "      <td>2651.000000</td>\n",
       "      <td>2651.000000</td>\n",
       "      <td>2651.000000</td>\n",
       "      <td>2651.000000</td>\n",
       "      <td>2651.000000</td>\n",
       "      <td>2651.000000</td>\n",
       "      <td>2651.000000</td>\n",
       "      <td>2651.000000</td>\n",
       "      <td>2651.000000</td>\n",
       "      <td>...</td>\n",
       "      <td>2651.000000</td>\n",
       "      <td>2651.000000</td>\n",
       "      <td>2651.000000</td>\n",
       "      <td>2651.000000</td>\n",
       "      <td>2651.000000</td>\n",
       "      <td>2651.000000</td>\n",
       "      <td>2651.000000</td>\n",
       "      <td>2651.000000</td>\n",
       "      <td>2651.000000</td>\n",
       "      <td>2651.000000</td>\n",
       "    </tr>\n",
       "    <tr>\n",
       "      <th>mean</th>\n",
       "      <td>0.007544</td>\n",
       "      <td>0.992456</td>\n",
       "      <td>0.007544</td>\n",
       "      <td>0.992456</td>\n",
       "      <td>0.708035</td>\n",
       "      <td>0.291965</td>\n",
       "      <td>0.595247</td>\n",
       "      <td>0.404753</td>\n",
       "      <td>0.743116</td>\n",
       "      <td>0.256884</td>\n",
       "      <td>...</td>\n",
       "      <td>0.297246</td>\n",
       "      <td>0.033572</td>\n",
       "      <td>0.005658</td>\n",
       "      <td>0.002641</td>\n",
       "      <td>0.017352</td>\n",
       "      <td>0.013203</td>\n",
       "      <td>0.961147</td>\n",
       "      <td>0.234628</td>\n",
       "      <td>0.356469</td>\n",
       "      <td>0.408902</td>\n",
       "    </tr>\n",
       "    <tr>\n",
       "      <th>std</th>\n",
       "      <td>0.086546</td>\n",
       "      <td>0.086546</td>\n",
       "      <td>0.086546</td>\n",
       "      <td>0.086546</td>\n",
       "      <td>0.454752</td>\n",
       "      <td>0.454752</td>\n",
       "      <td>0.490937</td>\n",
       "      <td>0.490937</td>\n",
       "      <td>0.436997</td>\n",
       "      <td>0.436997</td>\n",
       "      <td>...</td>\n",
       "      <td>0.457132</td>\n",
       "      <td>0.180159</td>\n",
       "      <td>0.075022</td>\n",
       "      <td>0.051328</td>\n",
       "      <td>0.130604</td>\n",
       "      <td>0.114163</td>\n",
       "      <td>0.193282</td>\n",
       "      <td>0.423846</td>\n",
       "      <td>0.479046</td>\n",
       "      <td>0.491724</td>\n",
       "    </tr>\n",
       "    <tr>\n",
       "      <th>min</th>\n",
       "      <td>0.000000</td>\n",
       "      <td>0.000000</td>\n",
       "      <td>0.000000</td>\n",
       "      <td>0.000000</td>\n",
       "      <td>0.000000</td>\n",
       "      <td>0.000000</td>\n",
       "      <td>0.000000</td>\n",
       "      <td>0.000000</td>\n",
       "      <td>0.000000</td>\n",
       "      <td>0.000000</td>\n",
       "      <td>...</td>\n",
       "      <td>0.000000</td>\n",
       "      <td>0.000000</td>\n",
       "      <td>0.000000</td>\n",
       "      <td>0.000000</td>\n",
       "      <td>0.000000</td>\n",
       "      <td>0.000000</td>\n",
       "      <td>0.000000</td>\n",
       "      <td>0.000000</td>\n",
       "      <td>0.000000</td>\n",
       "      <td>0.000000</td>\n",
       "    </tr>\n",
       "    <tr>\n",
       "      <th>25%</th>\n",
       "      <td>0.000000</td>\n",
       "      <td>1.000000</td>\n",
       "      <td>0.000000</td>\n",
       "      <td>1.000000</td>\n",
       "      <td>0.000000</td>\n",
       "      <td>0.000000</td>\n",
       "      <td>0.000000</td>\n",
       "      <td>0.000000</td>\n",
       "      <td>0.000000</td>\n",
       "      <td>0.000000</td>\n",
       "      <td>...</td>\n",
       "      <td>0.000000</td>\n",
       "      <td>0.000000</td>\n",
       "      <td>0.000000</td>\n",
       "      <td>0.000000</td>\n",
       "      <td>0.000000</td>\n",
       "      <td>0.000000</td>\n",
       "      <td>1.000000</td>\n",
       "      <td>0.000000</td>\n",
       "      <td>0.000000</td>\n",
       "      <td>0.000000</td>\n",
       "    </tr>\n",
       "    <tr>\n",
       "      <th>50%</th>\n",
       "      <td>0.000000</td>\n",
       "      <td>1.000000</td>\n",
       "      <td>0.000000</td>\n",
       "      <td>1.000000</td>\n",
       "      <td>1.000000</td>\n",
       "      <td>0.000000</td>\n",
       "      <td>1.000000</td>\n",
       "      <td>0.000000</td>\n",
       "      <td>1.000000</td>\n",
       "      <td>0.000000</td>\n",
       "      <td>...</td>\n",
       "      <td>0.000000</td>\n",
       "      <td>0.000000</td>\n",
       "      <td>0.000000</td>\n",
       "      <td>0.000000</td>\n",
       "      <td>0.000000</td>\n",
       "      <td>0.000000</td>\n",
       "      <td>1.000000</td>\n",
       "      <td>0.000000</td>\n",
       "      <td>0.000000</td>\n",
       "      <td>0.000000</td>\n",
       "    </tr>\n",
       "    <tr>\n",
       "      <th>75%</th>\n",
       "      <td>0.000000</td>\n",
       "      <td>1.000000</td>\n",
       "      <td>0.000000</td>\n",
       "      <td>1.000000</td>\n",
       "      <td>1.000000</td>\n",
       "      <td>1.000000</td>\n",
       "      <td>1.000000</td>\n",
       "      <td>1.000000</td>\n",
       "      <td>1.000000</td>\n",
       "      <td>1.000000</td>\n",
       "      <td>...</td>\n",
       "      <td>1.000000</td>\n",
       "      <td>0.000000</td>\n",
       "      <td>0.000000</td>\n",
       "      <td>0.000000</td>\n",
       "      <td>0.000000</td>\n",
       "      <td>0.000000</td>\n",
       "      <td>1.000000</td>\n",
       "      <td>0.000000</td>\n",
       "      <td>1.000000</td>\n",
       "      <td>1.000000</td>\n",
       "    </tr>\n",
       "    <tr>\n",
       "      <th>max</th>\n",
       "      <td>1.000000</td>\n",
       "      <td>1.000000</td>\n",
       "      <td>1.000000</td>\n",
       "      <td>1.000000</td>\n",
       "      <td>1.000000</td>\n",
       "      <td>1.000000</td>\n",
       "      <td>1.000000</td>\n",
       "      <td>1.000000</td>\n",
       "      <td>1.000000</td>\n",
       "      <td>1.000000</td>\n",
       "      <td>...</td>\n",
       "      <td>1.000000</td>\n",
       "      <td>1.000000</td>\n",
       "      <td>1.000000</td>\n",
       "      <td>1.000000</td>\n",
       "      <td>1.000000</td>\n",
       "      <td>1.000000</td>\n",
       "      <td>1.000000</td>\n",
       "      <td>1.000000</td>\n",
       "      <td>1.000000</td>\n",
       "      <td>1.000000</td>\n",
       "    </tr>\n",
       "  </tbody>\n",
       "</table>\n",
       "<p>8 rows × 74 columns</p>\n",
       "</div>"
      ],
      "text/plain": [
       "       accept_rate_below_avg  accept_rate_above_avg  response_rate_below_avg  \\\n",
       "count            2651.000000            2651.000000              2651.000000   \n",
       "mean                0.007544               0.992456                 0.007544   \n",
       "std                 0.086546               0.086546                 0.086546   \n",
       "min                 0.000000               0.000000                 0.000000   \n",
       "25%                 0.000000               1.000000                 0.000000   \n",
       "50%                 0.000000               1.000000                 0.000000   \n",
       "75%                 0.000000               1.000000                 0.000000   \n",
       "max                 1.000000               1.000000                 1.000000   \n",
       "\n",
       "       response_rate_above_avg  below_avg_num_of_reviews  \\\n",
       "count              2651.000000               2651.000000   \n",
       "mean                  0.992456                  0.708035   \n",
       "std                   0.086546                  0.454752   \n",
       "min                   0.000000                  0.000000   \n",
       "25%                   1.000000                  0.000000   \n",
       "50%                   1.000000                  1.000000   \n",
       "75%                   1.000000                  1.000000   \n",
       "max                   1.000000                  1.000000   \n",
       "\n",
       "       above_avg_num_of_reviews  below_avg_num_of_accom  \\\n",
       "count               2651.000000             2651.000000   \n",
       "mean                   0.291965                0.595247   \n",
       "std                    0.454752                0.490937   \n",
       "min                    0.000000                0.000000   \n",
       "25%                    0.000000                0.000000   \n",
       "50%                    0.000000                1.000000   \n",
       "75%                    1.000000                1.000000   \n",
       "max                    1.000000                1.000000   \n",
       "\n",
       "       above_avg_num_of_accom  below_avg_num_of_bedrooms  \\\n",
       "count             2651.000000                2651.000000   \n",
       "mean                 0.404753                   0.743116   \n",
       "std                  0.490937                   0.436997   \n",
       "min                  0.000000                   0.000000   \n",
       "25%                  0.000000                   0.000000   \n",
       "50%                  0.000000                   1.000000   \n",
       "75%                  1.000000                   1.000000   \n",
       "max                  1.000000                   1.000000   \n",
       "\n",
       "       above_avg_num_of_bedrooms  ...  rt_private_room  rt_shared_room  \\\n",
       "count                2651.000000  ...      2651.000000     2651.000000   \n",
       "mean                    0.256884  ...         0.297246        0.033572   \n",
       "std                     0.436997  ...         0.457132        0.180159   \n",
       "min                     0.000000  ...         0.000000        0.000000   \n",
       "25%                     0.000000  ...         0.000000        0.000000   \n",
       "50%                     0.000000  ...         0.000000        0.000000   \n",
       "75%                     1.000000  ...         1.000000        0.000000   \n",
       "max                     1.000000  ...         1.000000        1.000000   \n",
       "\n",
       "        bt_air_bed     bt_couch     bt_futon  bt_pull_out_sofa  bt_real_bed  \\\n",
       "count  2651.000000  2651.000000  2651.000000       2651.000000  2651.000000   \n",
       "mean      0.005658     0.002641     0.017352          0.013203     0.961147   \n",
       "std       0.075022     0.051328     0.130604          0.114163     0.193282   \n",
       "min       0.000000     0.000000     0.000000          0.000000     0.000000   \n",
       "25%       0.000000     0.000000     0.000000          0.000000     1.000000   \n",
       "50%       0.000000     0.000000     0.000000          0.000000     1.000000   \n",
       "75%       0.000000     0.000000     0.000000          0.000000     1.000000   \n",
       "max       1.000000     1.000000     1.000000          1.000000     1.000000   \n",
       "\n",
       "       cp_flexible  cp_moderate    cp_strict  \n",
       "count  2651.000000  2651.000000  2651.000000  \n",
       "mean      0.234628     0.356469     0.408902  \n",
       "std       0.423846     0.479046     0.491724  \n",
       "min       0.000000     0.000000     0.000000  \n",
       "25%       0.000000     0.000000     0.000000  \n",
       "50%       0.000000     0.000000     0.000000  \n",
       "75%       0.000000     1.000000     1.000000  \n",
       "max       1.000000     1.000000     1.000000  \n",
       "\n",
       "[8 rows x 74 columns]"
      ]
     },
     "execution_count": 19,
     "metadata": {},
     "output_type": "execute_result"
    }
   ],
   "source": [
    "X.describe()"
   ]
  },
  {
   "cell_type": "code",
   "execution_count": 20,
   "metadata": {},
   "outputs": [
    {
     "data": {
      "text/plain": [
       "good_review    1492\n",
       "bad_review     1159\n",
       "Name: rating_good_or_bad, dtype: int64"
      ]
     },
     "execution_count": 20,
     "metadata": {},
     "output_type": "execute_result"
    }
   ],
   "source": [
    "# Check the balance of our target values\n",
    "y[\"rating_good_or_bad\"].value_counts()"
   ]
  },
  {
   "cell_type": "code",
   "execution_count": 21,
   "metadata": {},
   "outputs": [
    {
     "name": "stdout",
     "output_type": "stream",
     "text": [
      "Training: Counter({'good_review': 1121, 'bad_review': 867})\n",
      "Test: Counter({'good_review': 371, 'bad_review': 292})\n"
     ]
    }
   ],
   "source": [
    "from sklearn.model_selection import train_test_split\n",
    "X_train, X_test, y_train, y_test = train_test_split(X,y, random_state=1)\n",
    "print(\"Training:\", Counter(y_train[\"rating_good_or_bad\"]))\n",
    "print(\"Test:\", Counter(y_test[\"rating_good_or_bad\"]))"
   ]
  },
  {
   "attachments": {},
   "cell_type": "markdown",
   "metadata": {},
   "source": [
    "Oversampling"
   ]
  },
  {
   "cell_type": "code",
   "execution_count": 22,
   "metadata": {},
   "outputs": [
    {
     "name": "stdout",
     "output_type": "stream",
     "text": [
      "Counter({'bad_review': 1121, 'good_review': 1121})\n"
     ]
    }
   ],
   "source": [
    "# Resample the training data with the RandomOversampler\n",
    "from imblearn.over_sampling import RandomOverSampler\n",
    "ros = RandomOverSampler (random_state=1)\n",
    "X_resampled, y_resampled = ros.fit_resample(X_train, y_train)\n",
    "print(Counter(y_resampled[\"rating_good_or_bad\"]))"
   ]
  },
  {
   "cell_type": "code",
   "execution_count": 23,
   "metadata": {},
   "outputs": [
    {
     "data": {
      "text/plain": [
       "LogisticRegression(random_state=1)"
      ]
     },
     "execution_count": 23,
     "metadata": {},
     "output_type": "execute_result"
    }
   ],
   "source": [
    "# Train the Logistic Regression model using the resampled data\n",
    "from sklearn.linear_model import LogisticRegression\n",
    "\n",
    "model = LogisticRegression(solver='lbfgs', random_state=1)\n",
    "model.fit(X_resampled, y_resampled)"
   ]
  },
  {
   "cell_type": "code",
   "execution_count": 24,
   "metadata": {},
   "outputs": [
    {
     "data": {
      "text/plain": [
       "0.6266107890558652"
      ]
     },
     "execution_count": 24,
     "metadata": {},
     "output_type": "execute_result"
    }
   ],
   "source": [
    "# Calculated the balanced accuracy score\n",
    "y_pred = model.predict(X_test)\n",
    "\n",
    "from sklearn.metrics import balanced_accuracy_score\n",
    "balanced_accuracy_score(y_test,y_pred)"
   ]
  },
  {
   "cell_type": "code",
   "execution_count": 25,
   "metadata": {},
   "outputs": [
    {
     "data": {
      "text/html": [
       "<div>\n",
       "<style scoped>\n",
       "    .dataframe tbody tr th:only-of-type {\n",
       "        vertical-align: middle;\n",
       "    }\n",
       "\n",
       "    .dataframe tbody tr th {\n",
       "        vertical-align: top;\n",
       "    }\n",
       "\n",
       "    .dataframe thead th {\n",
       "        text-align: right;\n",
       "    }\n",
       "</style>\n",
       "<table border=\"1\" class=\"dataframe\">\n",
       "  <thead>\n",
       "    <tr style=\"text-align: right;\">\n",
       "      <th></th>\n",
       "      <th>Predicted Bad Review</th>\n",
       "      <th>Predicted Good Review</th>\n",
       "    </tr>\n",
       "  </thead>\n",
       "  <tbody>\n",
       "    <tr>\n",
       "      <th>Actual Bad Review</th>\n",
       "      <td>192</td>\n",
       "      <td>100</td>\n",
       "    </tr>\n",
       "    <tr>\n",
       "      <th>Actual Good Review</th>\n",
       "      <td>150</td>\n",
       "      <td>221</td>\n",
       "    </tr>\n",
       "  </tbody>\n",
       "</table>\n",
       "</div>"
      ],
      "text/plain": [
       "                    Predicted Bad Review  Predicted Good Review\n",
       "Actual Bad Review                    192                    100\n",
       "Actual Good Review                   150                    221"
      ]
     },
     "execution_count": 25,
     "metadata": {},
     "output_type": "execute_result"
    }
   ],
   "source": [
    "# Display the confusion matrix\n",
    "from sklearn.metrics import confusion_matrix\n",
    "cm = confusion_matrix(y_test, y_pred)\n",
    "cm_df = pd.DataFrame(cm,index=[\"Actual Bad Review\", \"Actual Good Review\"], columns=[\"Predicted Bad Review\", \"Predicted Good Review\"])\n",
    "cm_df"
   ]
  },
  {
   "cell_type": "code",
   "execution_count": 26,
   "metadata": {},
   "outputs": [
    {
     "name": "stdout",
     "output_type": "stream",
     "text": [
      "                   pre       rec       spe        f1       geo       iba       sup\n",
      "\n",
      " bad_review       0.56      0.66      0.60      0.61      0.63      0.39       292\n",
      "good_review       0.69      0.60      0.66      0.64      0.63      0.39       371\n",
      "\n",
      "avg / total       0.63      0.62      0.63      0.62      0.63      0.39       663\n",
      "\n"
     ]
    }
   ],
   "source": [
    "# Print the imbalanced classification report\n",
    "from imblearn.metrics import classification_report_imbalanced\n",
    "print(classification_report_imbalanced(y_test, y_pred))"
   ]
  },
  {
   "attachments": {},
   "cell_type": "markdown",
   "metadata": {},
   "source": [
    "SMOTE Oversampling"
   ]
  },
  {
   "cell_type": "code",
   "execution_count": 27,
   "metadata": {},
   "outputs": [
    {
     "name": "stdout",
     "output_type": "stream",
     "text": [
      "Counter({'bad_review': 1121, 'good_review': 1121})\n"
     ]
    }
   ],
   "source": [
    "# Resample the training data with SMOTE\n",
    "from imblearn.over_sampling import SMOTE\n",
    "X_resampled, y_resampled = SMOTE(random_state=1, sampling_strategy='auto').fit_resample(X_train, y_train)\n",
    "print(Counter(y_resampled[\"rating_good_or_bad\"]))"
   ]
  },
  {
   "cell_type": "code",
   "execution_count": 28,
   "metadata": {},
   "outputs": [
    {
     "data": {
      "text/plain": [
       "LogisticRegression(random_state=1)"
      ]
     },
     "execution_count": 28,
     "metadata": {},
     "output_type": "execute_result"
    }
   ],
   "source": [
    "# Train the Logistic Regression model using the resampled data\n",
    "modelS = LogisticRegression(solver='lbfgs', random_state=1)\n",
    "modelS.fit(X_resampled, y_resampled)"
   ]
  },
  {
   "cell_type": "code",
   "execution_count": 29,
   "metadata": {},
   "outputs": [
    {
     "data": {
      "text/plain": [
       "0.6161937377690803"
      ]
     },
     "execution_count": 29,
     "metadata": {},
     "output_type": "execute_result"
    }
   ],
   "source": [
    "# Calculated the balanced accuracy score\n",
    "# Calculate predictions\n",
    "y_pred = modelS.predict(X_test)\n",
    "\n",
    "# Calculated the balanced accuracy score\n",
    "balanced_accuracy_score(y_test, y_pred)"
   ]
  },
  {
   "cell_type": "code",
   "execution_count": 30,
   "metadata": {},
   "outputs": [
    {
     "data": {
      "text/html": [
       "<div>\n",
       "<style scoped>\n",
       "    .dataframe tbody tr th:only-of-type {\n",
       "        vertical-align: middle;\n",
       "    }\n",
       "\n",
       "    .dataframe tbody tr th {\n",
       "        vertical-align: top;\n",
       "    }\n",
       "\n",
       "    .dataframe thead th {\n",
       "        text-align: right;\n",
       "    }\n",
       "</style>\n",
       "<table border=\"1\" class=\"dataframe\">\n",
       "  <thead>\n",
       "    <tr style=\"text-align: right;\">\n",
       "      <th></th>\n",
       "      <th>Predicted Bad Review</th>\n",
       "      <th>Predicted Good Review</th>\n",
       "    </tr>\n",
       "  </thead>\n",
       "  <tbody>\n",
       "    <tr>\n",
       "      <th>Actual Bad Review</th>\n",
       "      <td>193</td>\n",
       "      <td>99</td>\n",
       "    </tr>\n",
       "    <tr>\n",
       "      <th>Actual Good Review</th>\n",
       "      <td>159</td>\n",
       "      <td>212</td>\n",
       "    </tr>\n",
       "  </tbody>\n",
       "</table>\n",
       "</div>"
      ],
      "text/plain": [
       "                    Predicted Bad Review  Predicted Good Review\n",
       "Actual Bad Review                    193                     99\n",
       "Actual Good Review                   159                    212"
      ]
     },
     "execution_count": 30,
     "metadata": {},
     "output_type": "execute_result"
    }
   ],
   "source": [
    "# Display the confusion matrix\n",
    "cm2 = confusion_matrix(y_test, y_pred)\n",
    "cm2_df =pd.DataFrame(cm2, index=[\"Actual Bad Review\", \"Actual Good Review\"], columns=[\"Predicted Bad Review\", \"Predicted Good Review\"])\n",
    "cm2_df"
   ]
  },
  {
   "cell_type": "code",
   "execution_count": 31,
   "metadata": {},
   "outputs": [
    {
     "name": "stdout",
     "output_type": "stream",
     "text": [
      "                   pre       rec       spe        f1       geo       iba       sup\n",
      "\n",
      " bad_review       0.55      0.66      0.57      0.60      0.61      0.38       292\n",
      "good_review       0.68      0.57      0.66      0.62      0.61      0.37       371\n",
      "\n",
      "avg / total       0.62      0.61      0.62      0.61      0.61      0.38       663\n",
      "\n"
     ]
    }
   ],
   "source": [
    "# Print the imbalanced classification report\n",
    "print(classification_report_imbalanced(y_test, y_pred))"
   ]
  },
  {
   "attachments": {},
   "cell_type": "markdown",
   "metadata": {},
   "source": [
    "Undersampling"
   ]
  },
  {
   "cell_type": "code",
   "execution_count": 32,
   "metadata": {},
   "outputs": [
    {
     "name": "stdout",
     "output_type": "stream",
     "text": [
      "Counter({'bad_review': 867, 'good_review': 867})\n"
     ]
    }
   ],
   "source": [
    "# Resample the data using the ClusterCentroids resampler\n",
    "# Warning: This is a large dataset, and this step may take some time to complete\n",
    "from imblearn.under_sampling import ClusterCentroids\n",
    "cc = ClusterCentroids(random_state=1)\n",
    "X_resampled, y_resampled = cc.fit_resample(X_train, y_train)\n",
    "print(Counter(y_resampled[\"rating_good_or_bad\"]))"
   ]
  },
  {
   "cell_type": "code",
   "execution_count": 33,
   "metadata": {},
   "outputs": [
    {
     "data": {
      "text/plain": [
       "LogisticRegression(random_state=1)"
      ]
     },
     "execution_count": 33,
     "metadata": {},
     "output_type": "execute_result"
    }
   ],
   "source": [
    "# Train the Logistic Regression model using the resampled data\n",
    "modelU = LogisticRegression(solver='lbfgs', random_state=1)\n",
    "modelU.fit(X_resampled, y_resampled)"
   ]
  },
  {
   "cell_type": "code",
   "execution_count": 34,
   "metadata": {},
   "outputs": [
    {
     "data": {
      "text/plain": [
       "0.6284338884170882"
      ]
     },
     "execution_count": 34,
     "metadata": {},
     "output_type": "execute_result"
    }
   ],
   "source": [
    "# Calculated the balanced accuracy score\n",
    "y_pred = modelU.predict(X_test)\n",
    "balanced_accuracy_score(y_test, y_pred)"
   ]
  },
  {
   "cell_type": "code",
   "execution_count": 35,
   "metadata": {},
   "outputs": [
    {
     "data": {
      "text/html": [
       "<div>\n",
       "<style scoped>\n",
       "    .dataframe tbody tr th:only-of-type {\n",
       "        vertical-align: middle;\n",
       "    }\n",
       "\n",
       "    .dataframe tbody tr th {\n",
       "        vertical-align: top;\n",
       "    }\n",
       "\n",
       "    .dataframe thead th {\n",
       "        text-align: right;\n",
       "    }\n",
       "</style>\n",
       "<table border=\"1\" class=\"dataframe\">\n",
       "  <thead>\n",
       "    <tr style=\"text-align: right;\">\n",
       "      <th></th>\n",
       "      <th>Predicted Bad Review</th>\n",
       "      <th>Predicted Good Review</th>\n",
       "    </tr>\n",
       "  </thead>\n",
       "  <tbody>\n",
       "    <tr>\n",
       "      <th>Actual Bad Review</th>\n",
       "      <td>197</td>\n",
       "      <td>95</td>\n",
       "    </tr>\n",
       "    <tr>\n",
       "      <th>Actual Good Review</th>\n",
       "      <td>155</td>\n",
       "      <td>216</td>\n",
       "    </tr>\n",
       "  </tbody>\n",
       "</table>\n",
       "</div>"
      ],
      "text/plain": [
       "                    Predicted Bad Review  Predicted Good Review\n",
       "Actual Bad Review                    197                     95\n",
       "Actual Good Review                   155                    216"
      ]
     },
     "execution_count": 35,
     "metadata": {},
     "output_type": "execute_result"
    }
   ],
   "source": [
    "# Display the confusion matrix\n",
    "cm3 = confusion_matrix(y_test, y_pred)\n",
    "cm3_df =pd.DataFrame(cm3, index=[\"Actual Bad Review\", \"Actual Good Review\"], columns=[\"Predicted Bad Review\", \"Predicted Good Review\"])\n",
    "cm3_df"
   ]
  },
  {
   "cell_type": "code",
   "execution_count": 36,
   "metadata": {},
   "outputs": [
    {
     "name": "stdout",
     "output_type": "stream",
     "text": [
      "                   pre       rec       spe        f1       geo       iba       sup\n",
      "\n",
      " bad_review       0.56      0.67      0.58      0.61      0.63      0.40       292\n",
      "good_review       0.69      0.58      0.67      0.63      0.63      0.39       371\n",
      "\n",
      "avg / total       0.64      0.62      0.63      0.62      0.63      0.39       663\n",
      "\n"
     ]
    }
   ],
   "source": [
    "# Print the imbalanced classification report\n",
    "print(classification_report_imbalanced(y_test, y_pred))"
   ]
  },
  {
   "attachments": {},
   "cell_type": "markdown",
   "metadata": {},
   "source": [
    "Combo (over and under) sampling"
   ]
  },
  {
   "cell_type": "code",
   "execution_count": 37,
   "metadata": {},
   "outputs": [
    {
     "name": "stdout",
     "output_type": "stream",
     "text": [
      "Counter({'bad_review': 600, 'good_review': 367})\n"
     ]
    }
   ],
   "source": [
    "# Resample the training data with SMOTEENN\n",
    "# Warning: This is a large dataset, and this step may take some time to complete\n",
    "from imblearn.combine import SMOTEENN\n",
    "\n",
    "smote_enn = SMOTEENN(random_state=0)\n",
    "X_resampled, y_resampled = smote_enn.fit_resample(X,y)\n",
    "print(Counter(y_resampled[\"rating_good_or_bad\"]))"
   ]
  },
  {
   "cell_type": "code",
   "execution_count": 38,
   "metadata": {},
   "outputs": [
    {
     "data": {
      "text/plain": [
       "LogisticRegression(random_state=1)"
      ]
     },
     "execution_count": 38,
     "metadata": {},
     "output_type": "execute_result"
    }
   ],
   "source": [
    "# Train the Logistic Regression model using the resampled data\n",
    "mlenn = LogisticRegression(solver='lbfgs',random_state=1)\n",
    "mlenn.fit(X_resampled, y_resampled)"
   ]
  },
  {
   "cell_type": "code",
   "execution_count": 39,
   "metadata": {},
   "outputs": [
    {
     "data": {
      "text/plain": [
       "0.616350662777388"
      ]
     },
     "execution_count": 39,
     "metadata": {},
     "output_type": "execute_result"
    }
   ],
   "source": [
    "# Calculated the balanced accuracy score\n",
    "y_pred = mlenn.predict(X_test)\n",
    "balanced_accuracy_score(y_test, y_pred)"
   ]
  },
  {
   "cell_type": "code",
   "execution_count": 40,
   "metadata": {},
   "outputs": [
    {
     "data": {
      "text/html": [
       "<div>\n",
       "<style scoped>\n",
       "    .dataframe tbody tr th:only-of-type {\n",
       "        vertical-align: middle;\n",
       "    }\n",
       "\n",
       "    .dataframe tbody tr th {\n",
       "        vertical-align: top;\n",
       "    }\n",
       "\n",
       "    .dataframe thead th {\n",
       "        text-align: right;\n",
       "    }\n",
       "</style>\n",
       "<table border=\"1\" class=\"dataframe\">\n",
       "  <thead>\n",
       "    <tr style=\"text-align: right;\">\n",
       "      <th></th>\n",
       "      <th>Predicted Bad Review</th>\n",
       "      <th>Predicted Good Review</th>\n",
       "    </tr>\n",
       "  </thead>\n",
       "  <tbody>\n",
       "    <tr>\n",
       "      <th>Actual Bad Review</th>\n",
       "      <td>223</td>\n",
       "      <td>69</td>\n",
       "    </tr>\n",
       "    <tr>\n",
       "      <th>Actual Good Review</th>\n",
       "      <td>197</td>\n",
       "      <td>174</td>\n",
       "    </tr>\n",
       "  </tbody>\n",
       "</table>\n",
       "</div>"
      ],
      "text/plain": [
       "                    Predicted Bad Review  Predicted Good Review\n",
       "Actual Bad Review                    223                     69\n",
       "Actual Good Review                   197                    174"
      ]
     },
     "execution_count": 40,
     "metadata": {},
     "output_type": "execute_result"
    }
   ],
   "source": [
    "# Display the confusion matrix\n",
    "cm4 = confusion_matrix(y_test, y_pred)\n",
    "cm4_df =pd.DataFrame(cm4, index=[\"Actual Bad Review\", \"Actual Good Review\"], columns=[\"Predicted Bad Review\", \"Predicted Good Review\"])\n",
    "cm4_df"
   ]
  },
  {
   "cell_type": "code",
   "execution_count": 41,
   "metadata": {},
   "outputs": [
    {
     "name": "stdout",
     "output_type": "stream",
     "text": [
      "                   pre       rec       spe        f1       geo       iba       sup\n",
      "\n",
      " bad_review       0.53      0.76      0.47      0.63      0.60      0.37       292\n",
      "good_review       0.72      0.47      0.76      0.57      0.60      0.35       371\n",
      "\n",
      "avg / total       0.63      0.60      0.63      0.59      0.60      0.36       663\n",
      "\n"
     ]
    }
   ],
   "source": [
    "# Print the imbalanced classification report\n",
    "print(classification_report_imbalanced(y_test, y_pred))"
   ]
  },
  {
   "attachments": {},
   "cell_type": "markdown",
   "metadata": {},
   "source": [
    "Random Forest"
   ]
  },
  {
   "cell_type": "code",
   "execution_count": 42,
   "metadata": {},
   "outputs": [
    {
     "name": "stdout",
     "output_type": "stream",
     "text": [
      "Counter({'good_review': 1121, 'bad_review': 867})\n"
     ]
    }
   ],
   "source": [
    "# Resample the training data with the BalancedRandomForestClassifier\n",
    "from imblearn.ensemble import BalancedRandomForestClassifier\n",
    "random_model = BalancedRandomForestClassifier(n_estimators=100, random_state=1)\n",
    "random_model.fit(X_train, y_train)\n",
    "print(Counter(y_train[\"rating_good_or_bad\"]))"
   ]
  },
  {
   "cell_type": "code",
   "execution_count": 43,
   "metadata": {},
   "outputs": [
    {
     "data": {
      "text/plain": [
       "0.6040966658051177"
      ]
     },
     "execution_count": 43,
     "metadata": {},
     "output_type": "execute_result"
    }
   ],
   "source": [
    "# Calculated the balanced accuracy score\n",
    "y_pred = random_model.predict(X_test)\n",
    "from sklearn.metrics import confusion_matrix, accuracy_score\n",
    "balanced_accuracy_score(y_test, y_pred)"
   ]
  },
  {
   "cell_type": "code",
   "execution_count": 44,
   "metadata": {},
   "outputs": [
    {
     "data": {
      "text/html": [
       "<div>\n",
       "<style scoped>\n",
       "    .dataframe tbody tr th:only-of-type {\n",
       "        vertical-align: middle;\n",
       "    }\n",
       "\n",
       "    .dataframe tbody tr th {\n",
       "        vertical-align: top;\n",
       "    }\n",
       "\n",
       "    .dataframe thead th {\n",
       "        text-align: right;\n",
       "    }\n",
       "</style>\n",
       "<table border=\"1\" class=\"dataframe\">\n",
       "  <thead>\n",
       "    <tr style=\"text-align: right;\">\n",
       "      <th></th>\n",
       "      <th>Predicted Bad Review</th>\n",
       "      <th>Predicted Good Review</th>\n",
       "    </tr>\n",
       "  </thead>\n",
       "  <tbody>\n",
       "    <tr>\n",
       "      <th>Actual Bad Review</th>\n",
       "      <td>182</td>\n",
       "      <td>110</td>\n",
       "    </tr>\n",
       "    <tr>\n",
       "      <th>Actual Good Review</th>\n",
       "      <td>154</td>\n",
       "      <td>217</td>\n",
       "    </tr>\n",
       "  </tbody>\n",
       "</table>\n",
       "</div>"
      ],
      "text/plain": [
       "                    Predicted Bad Review  Predicted Good Review\n",
       "Actual Bad Review                    182                    110\n",
       "Actual Good Review                   154                    217"
      ]
     },
     "execution_count": 44,
     "metadata": {},
     "output_type": "execute_result"
    }
   ],
   "source": [
    "# Display the confusion matrix\n",
    "cm5 = confusion_matrix(y_test, y_pred)\n",
    "cm5_df =pd.DataFrame(cm5, index=[\"Actual Bad Review\", \"Actual Good Review\"], columns=[\"Predicted Bad Review\", \"Predicted Good Review\"])\n",
    "cm5_df"
   ]
  },
  {
   "cell_type": "code",
   "execution_count": 45,
   "metadata": {},
   "outputs": [
    {
     "name": "stdout",
     "output_type": "stream",
     "text": [
      "                   pre       rec       spe        f1       geo       iba       sup\n",
      "\n",
      " bad_review       0.54      0.62      0.58      0.58      0.60      0.37       292\n",
      "good_review       0.66      0.58      0.62      0.62      0.60      0.36       371\n",
      "\n",
      "avg / total       0.61      0.60      0.61      0.60      0.60      0.36       663\n",
      "\n"
     ]
    }
   ],
   "source": [
    "# Print the imbalanced classification report\n",
    "print(classification_report_imbalanced(y_test, y_pred))"
   ]
  },
  {
   "cell_type": "code",
   "execution_count": 46,
   "metadata": {},
   "outputs": [
    {
     "name": "stdout",
     "output_type": "stream",
     "text": [
      "a_superhost: 4.0%:\n",
      "not_a_superhost: 3.8%:\n",
      "location_other: 3.7%:\n",
      "rt_few_hours: 3.5%:\n",
      "rt_within_hours: 3.3%:\n",
      "cp_moderate: 3.0%:\n",
      "location_capital_hill: 2.8%:\n",
      "cp_strict: 2.8%:\n",
      "rt_within_day: 2.7%:\n",
      "above_avg_num_of_reviews: 2.6%:\n",
      "pt_apartment: 2.6%:\n",
      "location_central_area: 2.6%:\n",
      "below_avg_num_of_reviews: 2.6%:\n",
      "pt_house: 2.5%:\n",
      "cp_flexible: 2.5%:\n",
      "host_does_have_identity_ver: 2.5%:\n",
      "not_instantly_bookable: 2.4%:\n",
      "location_downtown: 2.4%:\n",
      "host_does_not_have_identity_ver: 2.4%:\n",
      "location_queen_anne: 2.4%:\n",
      "above_avg_num_of_accom: 2.3%:\n",
      "rt_entire_home: 2.2%:\n",
      "below_avg_num_of_accom: 2.2%:\n",
      "instantly_bookable: 2.2%:\n",
      "rt_private_room: 2.2%:\n",
      "location_ballard: 1.8%:\n",
      "below_avg_num_of_beds: 1.7%:\n",
      "above_avg_num_of_baths: 1.7%:\n",
      "above_avg_num_of_beds: 1.7%:\n",
      "below_avg_num_of_baths: 1.7%:\n",
      "location_rainier_vally: 1.6%:\n",
      "location_west_seattle: 1.5%:\n",
      "below_avg_num_of_bedrooms: 1.5%:\n",
      "above_avg_num_of_bedrooms: 1.4%:\n",
      "location_university_district: 1.4%:\n",
      "location_beacon_hill: 1.3%:\n",
      "requires_guest_phone_verification: 1.0%:\n",
      "does_not_require_guest_phone_verification: 1.0%:\n",
      "bt_real_bed: 1.0%:\n",
      "pt_townhouse: 0.9%:\n",
      "location_lake_city: 0.9%:\n",
      "location_delridge: 0.8%:\n",
      "location_cascade: 0.8%:\n",
      "requires_guest_profile_pic: 0.7%:\n",
      "does_not_require_guest_prof_pic: 0.7%:\n",
      "pt_condo: 0.7%:\n",
      "rt_shared_room: 0.7%:\n",
      "location_seward_park: 0.6%:\n",
      "location_magnolia: 0.6%:\n",
      "location_northgate: 0.6%:\n",
      "pt_loft: 0.5%:\n",
      "bt_futon: 0.5%:\n",
      "rt_few_days: 0.4%:\n",
      "bt_pull_out_sofa: 0.4%:\n",
      "pt_b&b: 0.3%:\n",
      "pt_other: 0.2%:\n",
      "bt_air_bed: 0.2%:\n",
      "pt_rv: 0.2%:\n",
      "pt_cabin: 0.2%:\n",
      "location_interbay: 0.1%:\n",
      "accept_rate_below_avg: 0.1%:\n",
      "pt_bungalow: 0.1%:\n",
      "accept_rate_above_avg: 0.1%:\n",
      "response_rate_above_avg: 0.1%:\n",
      "response_rate_below_avg: 0.1%:\n",
      "bt_couch: 0.1%:\n",
      "host_does_have_profile_pic: 0.0%:\n",
      "host_does_not_have_profile_pic: 0.0%:\n",
      "pt_dorm: 0.0%:\n",
      "pt_tent: 0.0%:\n",
      "pt_boat: 0.0%:\n",
      "pt_yurt: 0.0%:\n",
      "pt_treehouse: 0.0%:\n",
      "pt_chalet: 0.0%:\n"
     ]
    }
   ],
   "source": [
    "# List the features sorted in descending order by feature importance\n",
    "importances = sorted(zip(random_model.feature_importances_,X.columns), reverse=True)\n",
    "for importance in importances:\n",
    "    print(f'{importance[1]}: {importance[0]*100:.1f}%:')"
   ]
  },
  {
   "attachments": {},
   "cell_type": "markdown",
   "metadata": {},
   "source": [
    "Easy Ensemble "
   ]
  },
  {
   "cell_type": "code",
   "execution_count": 47,
   "metadata": {},
   "outputs": [
    {
     "name": "stdout",
     "output_type": "stream",
     "text": [
      "Counter({'good_review': 1121, 'bad_review': 867})\n"
     ]
    }
   ],
   "source": [
    "# Train the EasyEnsembleClassifier\n",
    "from imblearn.ensemble import EasyEnsembleClassifier\n",
    "easy_model = EasyEnsembleClassifier(n_estimators=100, random_state=1)\n",
    "easy_model.fit(X_train, y_train)\n",
    "print(Counter(y_train[\"rating_good_or_bad\"]))"
   ]
  },
  {
   "cell_type": "code",
   "execution_count": 48,
   "metadata": {},
   "outputs": [
    {
     "data": {
      "text/plain": [
       "0.6423863678322195"
      ]
     },
     "execution_count": 48,
     "metadata": {},
     "output_type": "execute_result"
    }
   ],
   "source": [
    "# Calculated the balanced accuracy score\n",
    "y_pred = easy_model.predict(X_test)\n",
    "from sklearn.metrics import balanced_accuracy_score\n",
    "balanced_accuracy_score(y_test,y_pred)"
   ]
  },
  {
   "cell_type": "code",
   "execution_count": 49,
   "metadata": {},
   "outputs": [
    {
     "data": {
      "text/html": [
       "<div>\n",
       "<style scoped>\n",
       "    .dataframe tbody tr th:only-of-type {\n",
       "        vertical-align: middle;\n",
       "    }\n",
       "\n",
       "    .dataframe tbody tr th {\n",
       "        vertical-align: top;\n",
       "    }\n",
       "\n",
       "    .dataframe thead th {\n",
       "        text-align: right;\n",
       "    }\n",
       "</style>\n",
       "<table border=\"1\" class=\"dataframe\">\n",
       "  <thead>\n",
       "    <tr style=\"text-align: right;\">\n",
       "      <th></th>\n",
       "      <th>Predicted Bad Review</th>\n",
       "      <th>Predicted Good Review</th>\n",
       "    </tr>\n",
       "  </thead>\n",
       "  <tbody>\n",
       "    <tr>\n",
       "      <th>Actual Bad Review</th>\n",
       "      <td>202</td>\n",
       "      <td>90</td>\n",
       "    </tr>\n",
       "    <tr>\n",
       "      <th>Actual Good Review</th>\n",
       "      <td>151</td>\n",
       "      <td>220</td>\n",
       "    </tr>\n",
       "  </tbody>\n",
       "</table>\n",
       "</div>"
      ],
      "text/plain": [
       "                    Predicted Bad Review  Predicted Good Review\n",
       "Actual Bad Review                    202                     90\n",
       "Actual Good Review                   151                    220"
      ]
     },
     "execution_count": 49,
     "metadata": {},
     "output_type": "execute_result"
    }
   ],
   "source": [
    "# Display the confusion matrix\n",
    "cm6 = confusion_matrix(y_test, y_pred)\n",
    "cm6_df =pd.DataFrame(cm6, index=[\"Actual Bad Review\", \"Actual Good Review\"], columns=[\"Predicted Bad Review\", \"Predicted Good Review\"])\n",
    "cm6_df"
   ]
  },
  {
   "cell_type": "code",
   "execution_count": 50,
   "metadata": {},
   "outputs": [
    {
     "name": "stdout",
     "output_type": "stream",
     "text": [
      "                   pre       rec       spe        f1       geo       iba       sup\n",
      "\n",
      " bad_review       0.57      0.69      0.59      0.63      0.64      0.41       292\n",
      "good_review       0.71      0.59      0.69      0.65      0.64      0.41       371\n",
      "\n",
      "avg / total       0.65      0.64      0.65      0.64      0.64      0.41       663\n",
      "\n"
     ]
    }
   ],
   "source": [
    "# Print the imbalanced classification report\n",
    "print(classification_report_imbalanced(y_test, y_pred))"
   ]
  }
 ],
 "metadata": {
  "kernelspec": {
   "display_name": "Python 3",
   "language": "python",
   "name": "python3"
  },
  "language_info": {
   "codemirror_mode": {
    "name": "ipython",
    "version": 3
   },
   "file_extension": ".py",
   "mimetype": "text/x-python",
   "name": "python",
   "nbconvert_exporter": "python",
   "pygments_lexer": "ipython3",
   "version": "3.7.13 (default, Mar 28 2022, 07:24:34) \n[Clang 12.0.0 ]"
  },
  "orig_nbformat": 4,
  "vscode": {
   "interpreter": {
    "hash": "86969af4118fd2beaee010b14a97d3c8fe7dc31ff55f1528eea7eaecb45368d6"
   }
  }
 },
 "nbformat": 4,
 "nbformat_minor": 2
}
