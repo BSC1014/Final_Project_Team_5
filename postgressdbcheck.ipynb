{
 "cells": [
  {
   "cell_type": "code",
   "execution_count": 8,
   "metadata": {},
   "outputs": [],
   "source": [
    "import psycopg2\n",
    "import sys\n",
    "import boto3\n",
    "import os\n",
    "import pandas as pd\n",
    "from config import config_database, config_password\n",
    "\n",
    "pww = config_password\n",
    "\n",
    "conn = psycopg2.connect(database= \"final-project\",\n",
    "                        host=\"final-project.cuwr3km7ozpl.us-east-1.rds.amazonaws.com\",\n",
    "                        user= \"postgres\",\n",
    "                        password=pww ,\n",
    "                        port=\"5432\")\n",
    "\n"
   ]
  },
  {
   "cell_type": "code",
   "execution_count": null,
   "metadata": {},
   "outputs": [],
   "source": [
    "cur = conn.cursor()"
   ]
  },
  {
   "cell_type": "code",
   "execution_count": null,
   "metadata": {},
   "outputs": [],
   "source": [
    "cur.execute(\"SELECT * FROM unit\")\n",
    "\n",
    "tuples_list = cur.fetchall()\n",
    "cur.close()\n",
    "column_names = [\"reviews_per_month\",\"review_scores_value\",\"review_scores_location\",\"review_scores_communication\",\"review_scores_checkin\",\n",
    "\"review_scores_cleanliness\",\"review_scores_accuracy\",\"review_scores_rating\",\"last_review\",\"first_review\",\"number_of_reviews\",\"require_guest_phone_verification\",\n",
    "\"require_guest_profile_picture\",\"cancellation_policy\",\"instant_bookable\",\"bed_type\",\"beds\",\"bedrooms\",\"bathrooms\",\"accommodates\",\"room_type\",\"property_type\",\"longitude\",\n",
    "\"latitude\",\"zipcode\",\"state\",\"city\",\"neighbourhood_group\",\"name\",\"booking_id\",\"host_id\",\"id\"]"
   ]
  },
  {
   "cell_type": "code",
   "execution_count": null,
   "metadata": {},
   "outputs": [],
   "source": [
    "df = pd.DataFrame(tuples_list, columns=column_names)\n",
    "df.head()"
   ]
  }
 ],
 "metadata": {
  "kernelspec": {
   "display_name": "Python 3",
   "language": "python",
   "name": "python3"
  },
  "language_info": {
   "codemirror_mode": {
    "name": "ipython",
    "version": 3
   },
   "file_extension": ".py",
   "mimetype": "text/x-python",
   "name": "python",
   "nbconvert_exporter": "python",
   "pygments_lexer": "ipython3",
   "version": "3.7.13"
  },
  "orig_nbformat": 4,
  "vscode": {
   "interpreter": {
    "hash": "86969af4118fd2beaee010b14a97d3c8fe7dc31ff55f1528eea7eaecb45368d6"
   }
  }
 },
 "nbformat": 4,
 "nbformat_minor": 2
}
